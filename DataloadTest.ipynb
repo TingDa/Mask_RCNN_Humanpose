{
 "cells": [
  {
   "cell_type": "code",
   "execution_count": 380,
   "metadata": {},
   "outputs": [],
   "source": [
    "import json\n",
    "import skimage\n",
    "import os\n",
    "import sys\n",
    "import random\n",
    "import math\n",
    "import numpy as np\n",
    "import skimage.io\n",
    "import matplotlib\n",
    "import matplotlib.pyplot as plt\n",
    "\n",
    "import coco\n",
    "import utils\n",
    "import model as modellib\n",
    "#import visualize\n",
    "from model import log\n",
    "dataset_dir = r'C:\\Users\\Zed_Luz\\OneDrive\\3-MEE\\18-JHU\\12-Work\\5-MosquitoRecog\\7-data'#'/media/jm/000C65DB000784DF/workspace/ws_MaskRCNN/Mask_RCNN/samples/mosquitoes/data/'\n"
   ]
  },
  {
   "cell_type": "code",
   "execution_count": 381,
   "metadata": {},
   "outputs": [],
   "source": [
    "subset = 'train'\n",
    "assert subset in [\"train\", \"val\"]\n"
   ]
  },
  {
   "cell_type": "code",
   "execution_count": 382,
   "metadata": {},
   "outputs": [],
   "source": [
    "if subset=='val':\n",
    "    annotations = json.load(open(os.path.join(dataset_dir, \"annotations\",\"train.json\")))\n",
    "else:\n",
    "    annotations = json.load(open(os.path.join(dataset_dir, \"annotations\",\"val.json\")))\n",
    "\n"
   ]
  },
  {
   "cell_type": "code",
   "execution_count": 383,
   "metadata": {},
   "outputs": [],
   "source": [
    "annotations = list(annotations.values())\n"
   ]
  },
  {
   "cell_type": "code",
   "execution_count": 384,
   "metadata": {},
   "outputs": [
    {
     "name": "stdout",
     "output_type": "stream",
     "text": [
      "[{'filename': '7_0095_2.jpg', 'size': 250941, 'regions': [{'shape_attributes': {'name': 'rect', 'x': 437, 'y': 155, 'width': 134, 'height': 141}, 'region_attributes': {'class': '1'}}, {'shape_attributes': {'name': 'rect', 'x': 485, 'y': 154, 'width': 81, 'height': 28}, 'region_attributes': {}}, {'shape_attributes': {'name': 'point', 'cx': 555, 'cy': 170}, 'region_attributes': {}}, {'shape_attributes': {'name': 'point', 'cx': 495, 'cy': 167}, 'region_attributes': {}}, {'shape_attributes': {'name': 'point', 'cx': 456, 'cy': 281}, 'region_attributes': {}}, {'shape_attributes': {'name': 'rect', 'x': 577, 'y': 114, 'width': 197, 'height': 133}, 'region_attributes': {'class': '2'}}, {'shape_attributes': {'name': 'rect', 'x': 590, 'y': 121, 'width': 50, 'height': 82}, 'region_attributes': {'class': ''}}, {'shape_attributes': {'name': 'point', 'cx': 614, 'cy': 131}, 'region_attributes': {}}, {'shape_attributes': {'name': 'point', 'cx': 607, 'cy': 188}, 'region_attributes': {}}, {'shape_attributes': {'name': 'point', 'cx': 721, 'cy': 217}, 'region_attributes': {}}, {'shape_attributes': {'name': 'rect', 'x': 1018, 'y': 7, 'width': 130, 'height': 167}, 'region_attributes': {'class': '1'}}, {'shape_attributes': {'name': 'rect', 'x': 1081, 'y': 9, 'width': 53, 'height': 71}, 'region_attributes': {'class': ''}}, {'shape_attributes': {'name': 'point', 'cx': 1099, 'cy': 20}, 'region_attributes': {}}, {'shape_attributes': {'name': 'point', 'cx': 1122, 'cy': 67}, 'region_attributes': {}}, {'shape_attributes': {'name': 'point', 'cx': 1044, 'cy': 160}, 'region_attributes': {}}, {'shape_attributes': {'name': 'rect', 'x': 147, 'y': 957, 'width': 144, 'height': 125}, 'region_attributes': {'class': ''}}, {'shape_attributes': {'name': 'rect', 'x': 161, 'y': 968, 'width': 62, 'height': 54}, 'region_attributes': {'class': ''}}, {'shape_attributes': {'name': 'point', 'cx': 208, 'cy': 980}, 'region_attributes': {}}, {'shape_attributes': {'name': 'point', 'cx': 175, 'cy': 1006}, 'region_attributes': {}}, {'shape_attributes': {'name': 'point', 'cx': 272, 'cy': 1058}, 'region_attributes': {}}, {'shape_attributes': {'name': 'rect', 'x': 289, 'y': 888, 'width': 118, 'height': 149}, 'region_attributes': {'class': '2'}}, {'shape_attributes': {'name': 'rect', 'x': 296, 'y': 952, 'width': 40, 'height': 88}, 'region_attributes': {'class': ''}}, {'shape_attributes': {'name': 'point', 'cx': 310, 'cy': 1020}, 'region_attributes': {}}, {'shape_attributes': {'name': 'point', 'cx': 310, 'cy': 971}, 'region_attributes': {}}, {'shape_attributes': {'name': 'point', 'cx': 391, 'cy': 976}, 'region_attributes': {}}, {'shape_attributes': {'name': 'rect', 'x': 601, 'y': 772, 'width': 156, 'height': 125}, 'region_attributes': {'class': '2'}}, {'shape_attributes': {'name': 'rect', 'x': 601, 'y': 810, 'width': 54, 'height': 76}, 'region_attributes': {'class': ''}}, {'shape_attributes': {'name': 'point', 'cx': 635, 'cy': 867}, 'region_attributes': {}}, {'shape_attributes': {'name': 'point', 'cx': 620, 'cy': 824}, 'region_attributes': {}}, {'shape_attributes': {'name': 'point', 'cx': 720, 'cy': 822}, 'region_attributes': {}}, {'shape_attributes': {'name': 'rect', 'x': 792, 'y': 870, 'width': 167, 'height': 124}, 'region_attributes': {'class': '2'}}, {'shape_attributes': {'name': 'rect', 'x': 863, 'y': 877, 'width': 83, 'height': 50}, 'region_attributes': {'class': ''}}, {'shape_attributes': {'name': 'point', 'cx': 884, 'cy': 884}, 'region_attributes': {}}, {'shape_attributes': {'name': 'point', 'cx': 922, 'cy': 913}, 'region_attributes': {}}, {'shape_attributes': {'name': 'point', 'cx': 831, 'cy': 962}, 'region_attributes': {}}, {'shape_attributes': {'name': 'rect', 'x': 1099, 'y': 859, 'width': 173, 'height': 130}, 'region_attributes': {'class': ''}}, {'shape_attributes': {'name': 'rect', 'x': 1101, 'y': 893, 'width': 57, 'height': 88}, 'region_attributes': {'class': ''}}, {'shape_attributes': {'name': 'point', 'cx': 1139, 'cy': 959}, 'region_attributes': {}}, {'shape_attributes': {'name': 'point', 'cx': 1122, 'cy': 909}, 'region_attributes': {}}, {'shape_attributes': {'name': 'point', 'cx': 1245, 'cy': 923}, 'region_attributes': {}}], 'file_attributes': {}}, {'filename': '8_0028_5.jpg', 'size': 266876, 'regions': [{'shape_attributes': {'name': 'rect', 'x': 70, 'y': 82, 'width': 145, 'height': 161}, 'region_attributes': {'class': '1'}}, {'shape_attributes': {'name': 'rect', 'x': 121, 'y': 181, 'width': 82, 'height': 47}, 'region_attributes': {'class': ''}}, {'shape_attributes': {'name': 'point', 'cx': 189, 'cy': 188}, 'region_attributes': {}}, {'shape_attributes': {'name': 'point', 'cx': 129, 'cy': 214}, 'region_attributes': {}}, {'shape_attributes': {'name': 'point', 'cx': 139, 'cy': 101}, 'region_attributes': {}}, {'shape_attributes': {'name': 'rect', 'x': 253, 'y': 286, 'width': 152, 'height': 212}, 'region_attributes': {'class': '2'}}, {'shape_attributes': {'name': 'rect', 'x': 324, 'y': 421, 'width': 76, 'height': 73}, 'region_attributes': {'class': ''}}, {'shape_attributes': {'name': 'point', 'cx': 339, 'cy': 485}, 'region_attributes': {}}, {'shape_attributes': {'name': 'point', 'cx': 376, 'cy': 429}, 'region_attributes': {}}, {'shape_attributes': {'name': 'point', 'cx': 322, 'cy': 297}, 'region_attributes': {}}, {'shape_attributes': {'name': 'rect', 'x': 1034, 'y': 202, 'width': 130, 'height': 220}, 'region_attributes': {'class': '1'}}, {'shape_attributes': {'name': 'rect', 'x': 1044, 'y': 206, 'width': 98, 'height': 73}, 'region_attributes': {'class': ''}}, {'shape_attributes': {'name': 'point', 'cx': 1055, 'cy': 220}, 'region_attributes': {}}, {'shape_attributes': {'name': 'point', 'cx': 1112, 'cy': 263}, 'region_attributes': {}}, {'shape_attributes': {'name': 'point', 'cx': 1076, 'cy': 392}, 'region_attributes': {}}, {'shape_attributes': {'name': 'rect', 'x': 50, 'y': 629, 'width': 179, 'height': 140}, 'region_attributes': {'class': '2'}}, {'shape_attributes': {'name': 'rect', 'x': 60, 'y': 661, 'width': 48, 'height': 101}, 'region_attributes': {'class': ''}}, {'shape_attributes': {'name': 'point', 'cx': 85, 'cy': 741}, 'region_attributes': {}}, {'shape_attributes': {'name': 'point', 'cx': 85, 'cy': 678}, 'region_attributes': {}}, {'shape_attributes': {'name': 'point', 'cx': 206, 'cy': 666}, 'region_attributes': {}}, {'shape_attributes': {'name': 'rect', 'x': 435, 'y': 522, 'width': 160, 'height': 123}, 'region_attributes': {'class': '2'}}, {'shape_attributes': {'name': 'rect', 'x': 440, 'y': 606, 'width': 131, 'height': 36}, 'region_attributes': {'class': ''}}, {'shape_attributes': {'name': 'point', 'cx': 524, 'cy': 622}, 'region_attributes': {}}, {'shape_attributes': {'name': 'point', 'cx': 472, 'cy': 625}, 'region_attributes': {}}, {'shape_attributes': {'name': 'point', 'cx': 563, 'cy': 538}, 'region_attributes': {}}, {'shape_attributes': {'name': 'rect', 'x': 644, 'y': 493, 'width': 133, 'height': 197}, 'region_attributes': {'class': '1'}}, {'shape_attributes': {'name': 'rect', 'x': 651, 'y': 601, 'width': 47, 'height': 85}, 'region_attributes': {'class': ''}}, {'shape_attributes': {'name': 'point', 'cx': 677, 'cy': 663}, 'region_attributes': {}}, {'shape_attributes': {'name': 'point', 'cx': 671, 'cy': 623}, 'region_attributes': {}}, {'shape_attributes': {'name': 'point', 'cx': 741, 'cy': 519}, 'region_attributes': {}}, {'shape_attributes': {'name': 'rect', 'x': 841, 'y': 646, 'width': 146, 'height': 202}, 'region_attributes': {'class': '2'}}, {'shape_attributes': {'name': 'rect', 'x': 862, 'y': 770, 'width': 110, 'height': 70}, 'region_attributes': {'class': ''}}, {'shape_attributes': {'name': 'point', 'cx': 949, 'cy': 822}, 'region_attributes': {}}, {'shape_attributes': {'name': 'point', 'cx': 886, 'cy': 787}, 'region_attributes': {}}, {'shape_attributes': {'name': 'point', 'cx': 962, 'cy': 667}, 'region_attributes': {}}, {'shape_attributes': {'name': 'rect', 'x': 188, 'y': 609, 'width': 166, 'height': 149}, 'region_attributes': {'class': '1'}}, {'shape_attributes': {'name': 'rect', 'x': 314, 'y': 612, 'width': 43, 'height': 94}, 'region_attributes': {'class': ''}}, {'shape_attributes': {'name': 'point', 'cx': 341, 'cy': 619}, 'region_attributes': {}}, {'shape_attributes': {'name': 'point', 'cx': 327, 'cy': 682}, 'region_attributes': {}}, {'shape_attributes': {'name': 'point', 'cx': 211, 'cy': 738}, 'region_attributes': {}}, {'shape_attributes': {'name': 'rect', 'x': 376, 'y': 825, 'width': 183, 'height': 137}, 'region_attributes': {'class': '1'}}, {'shape_attributes': {'name': 'rect', 'x': 384, 'y': 870, 'width': 76, 'height': 82}, 'region_attributes': {'class': ''}}, {'shape_attributes': {'name': 'point', 'cx': 397, 'cy': 880}, 'region_attributes': {}}, {'shape_attributes': {'name': 'point', 'cx': 446, 'cy': 933}, 'region_attributes': {}}, {'shape_attributes': {'name': 'point', 'cx': 542, 'cy': 844}, 'region_attributes': {}}], 'file_attributes': {}}, {'filename': '8_0029_4.jpg', 'size': 255307, 'regions': [{'shape_attributes': {'name': 'rect', 'x': 284, 'y': 258, 'width': 161, 'height': 213}, 'region_attributes': {'class': '1'}}, {'shape_attributes': {'name': 'rect', 'x': 293, 'y': 275, 'width': 86, 'height': 57}, 'region_attributes': {'class': ''}}, {'shape_attributes': {'name': 'point', 'cx': 311, 'cy': 293}, 'region_attributes': {}}, {'shape_attributes': {'name': 'point', 'cx': 360, 'cy': 310}, 'region_attributes': {}}, {'shape_attributes': {'name': 'point', 'cx': 404, 'cy': 440}, 'region_attributes': {}}, {'shape_attributes': {'name': 'rect', 'x': 995, 'y': 210, 'width': 159, 'height': 163}, 'region_attributes': {'class': ''}}, {'shape_attributes': {'name': 'rect', 'x': 1007, 'y': 302, 'width': 112, 'height': 55}, 'region_attributes': {'class': ''}}, {'shape_attributes': {'name': 'point', 'cx': 1082, 'cy': 343}, 'region_attributes': {}}, {'shape_attributes': {'name': 'point', 'cx': 1027, 'cy': 313}, 'region_attributes': {}}, {'shape_attributes': {'name': 'point', 'cx': 1117, 'cy': 240}, 'region_attributes': {}}, {'shape_attributes': {'name': 'rect', 'x': 24, 'y': 680, 'width': 199, 'height': 123}, 'region_attributes': {'class': '2'}}, {'shape_attributes': {'name': 'rect', 'x': 31, 'y': 708, 'width': 71, 'height': 95}, 'region_attributes': {'class': ''}}, {'shape_attributes': {'name': 'point', 'cx': 54, 'cy': 781}, 'region_attributes': {}}, {'shape_attributes': {'name': 'point', 'cx': 62, 'cy': 727}, 'region_attributes': {}}, {'shape_attributes': {'name': 'point', 'cx': 201, 'cy': 734}, 'region_attributes': {}}, {'shape_attributes': {'name': 'rect', 'x': 635, 'y': 656, 'width': 178, 'height': 148}, 'region_attributes': {'class': '2'}}, {'shape_attributes': {'name': 'rect', 'x': 646, 'y': 730, 'width': 93, 'height': 66}, 'region_attributes': {'class': ''}}, {'shape_attributes': {'name': 'point', 'cx': 721, 'cy': 783}, 'region_attributes': {}}, {'shape_attributes': {'name': 'point', 'cx': 668, 'cy': 747}, 'region_attributes': {}}, {'shape_attributes': {'name': 'point', 'cx': 775, 'cy': 686}, 'region_attributes': {}}, {'shape_attributes': {'name': 'rect', 'x': 1309, 'y': 638, 'width': 128, 'height': 165}, 'region_attributes': {'class': '2'}}, {'shape_attributes': {'name': 'rect', 'x': 1313, 'y': 753, 'width': 91, 'height': 46}, 'region_attributes': {'class': ''}}, {'shape_attributes': {'name': 'point', 'cx': 1328, 'cy': 790}, 'region_attributes': {}}, {'shape_attributes': {'name': 'point', 'cx': 1384, 'cy': 771}, 'region_attributes': {}}, {'shape_attributes': {'name': 'point', 'cx': 1395, 'cy': 655}, 'region_attributes': {}}, {'shape_attributes': {'name': 'rect', 'x': 971, 'y': 824, 'width': 137, 'height': 182}, 'region_attributes': {'class': ''}}, {'shape_attributes': {'name': 'rect', 'x': 1028, 'y': 928, 'width': 66, 'height': 73}, 'region_attributes': {'class': ''}}, {'shape_attributes': {'name': 'point', 'cx': 1037, 'cy': 985}, 'region_attributes': {}}, {'shape_attributes': {'name': 'point', 'cx': 1082, 'cy': 947}, 'region_attributes': {}}, {'shape_attributes': {'name': 'point', 'cx': 990, 'cy': 843}, 'region_attributes': {}}, {'shape_attributes': {'name': 'rect', 'x': 566, 'y': 933, 'width': 175, 'height': 180}, 'region_attributes': {'class': ''}}, {'shape_attributes': {'name': 'rect', 'x': 564, 'y': 1051, 'width': 88, 'height': 62}, 'region_attributes': {'class': ''}}, {'shape_attributes': {'name': 'point', 'cx': 582, 'cy': 1075}, 'region_attributes': {}}, {'shape_attributes': {'name': 'point', 'cx': 635, 'cy': 1082}, 'region_attributes': {}}, {'shape_attributes': {'name': 'point', 'cx': 706, 'cy': 961}, 'region_attributes': {}}, {'shape_attributes': {'name': 'rect', 'x': 166, 'y': 971, 'width': 211, 'height': 140}, 'region_attributes': {'class': '2'}}, {'shape_attributes': {'name': 'rect', 'x': 194, 'y': 976, 'width': 85, 'height': 71}, 'region_attributes': {'class': ''}}, {'shape_attributes': {'name': 'point', 'cx': 215, 'cy': 1030}, 'region_attributes': {}}, {'shape_attributes': {'name': 'point', 'cx': 260, 'cy': 990}, 'region_attributes': {}}, {'shape_attributes': {'name': 'point', 'cx': 348, 'cy': 1082}, 'region_attributes': {}}], 'file_attributes': {}}, {'filename': '8_0033_4.jpg', 'size': 258219, 'regions': [{'shape_attributes': {'name': 'rect', 'x': 334, 'y': 19, 'width': 199, 'height': 133}, 'region_attributes': {'class': '2'}}, {'shape_attributes': {'name': 'rect', 'x': 469, 'y': 45, 'width': 52, 'height': 90}, 'region_attributes': {'class': ''}}, {'shape_attributes': {'name': 'point', 'cx': 507, 'cy': 62}, 'region_attributes': {}}, {'shape_attributes': {'name': 'point', 'cx': 484, 'cy': 107}, 'region_attributes': {}}, {'shape_attributes': {'name': 'point', 'cx': 369, 'cy': 53}, 'region_attributes': {}}, {'shape_attributes': {'name': 'rect', 'x': 1089, 'y': 84, 'width': 136, 'height': 159}, 'region_attributes': {'class': '1'}}, {'shape_attributes': {'name': 'rect', 'x': 1172, 'y': 166, 'width': 56, 'height': 70}, 'region_attributes': {'class': ''}}, {'shape_attributes': {'name': 'point', 'cx': 1196, 'cy': 215}, 'region_attributes': {}}, {'shape_attributes': {'name': 'point', 'cx': 1208, 'cy': 178}, 'region_attributes': {}}, {'shape_attributes': {'name': 'point', 'cx': 1101, 'cy': 102}, 'region_attributes': {}}, {'shape_attributes': {'name': 'rect', 'x': 822, 'y': 376, 'width': 133, 'height': 130}, 'region_attributes': {'class': '2'}}, {'shape_attributes': {'name': 'rect', 'x': 826, 'y': 386, 'width': 40, 'height': 95}, 'region_attributes': {'class': ''}}, {'shape_attributes': {'name': 'point', 'cx': 836, 'cy': 461}, 'region_attributes': {}}, {'shape_attributes': {'name': 'point', 'cx': 846, 'cy': 410}, 'region_attributes': {}}, {'shape_attributes': {'name': 'point', 'cx': 931, 'cy': 475}, 'region_attributes': {}}, {'shape_attributes': {'name': 'rect', 'x': 496, 'y': 448, 'width': 137, 'height': 136}, 'region_attributes': {'class': '1'}}, {'shape_attributes': {'name': 'rect', 'x': 501, 'y': 453, 'width': 73, 'height': 45}, 'region_attributes': {'class': ''}}, {'shape_attributes': {'name': 'point', 'cx': 513, 'cy': 490}, 'region_attributes': {}}, {'shape_attributes': {'name': 'point', 'cx': 555, 'cy': 466}, 'region_attributes': {}}, {'shape_attributes': {'name': 'point', 'cx': 622, 'cy': 553}, 'region_attributes': {}}, {'shape_attributes': {'name': 'rect', 'x': 250, 'y': 457, 'width': 160, 'height': 161}, 'region_attributes': {'class': '2'}}, {'shape_attributes': {'name': 'rect', 'x': 255, 'y': 529, 'width': 60, 'height': 89}, 'region_attributes': {'class': ''}}, {'shape_attributes': {'name': 'point', 'cx': 296, 'cy': 594}, 'region_attributes': {}}, {'shape_attributes': {'name': 'point', 'cx': 271, 'cy': 547}, 'region_attributes': {}}, {'shape_attributes': {'name': 'point', 'cx': 391, 'cy': 478}, 'region_attributes': {}}, {'shape_attributes': {'name': 'rect', 'x': 1340, 'y': 535, 'width': 166, 'height': 159}, 'region_attributes': {'class': ''}}, {'shape_attributes': {'name': 'rect', 'x': 1357, 'y': 566, 'width': 47, 'height': 109}, 'region_attributes': {'class': ''}}, {'shape_attributes': {'name': 'point', 'cx': 1371, 'cy': 653}, 'region_attributes': {}}, {'shape_attributes': {'name': 'point', 'cx': 1380, 'cy': 592}, 'region_attributes': {}}, {'shape_attributes': {'name': 'point', 'cx': 1482, 'cy': 635}, 'region_attributes': {}}, {'shape_attributes': {'name': 'rect', 'x': 135, 'y': 732, 'width': 156, 'height': 149}, 'region_attributes': {'class': '2'}}, {'shape_attributes': {'name': 'rect', 'x': 187, 'y': 807, 'width': 92, 'height': 59}, 'region_attributes': {'class': ''}}, {'shape_attributes': {'name': 'point', 'cx': 256, 'cy': 836}, 'region_attributes': {}}, {'shape_attributes': {'name': 'point', 'cx': 204, 'cy': 848}, 'region_attributes': {}}, {'shape_attributes': {'name': 'point', 'cx': 168, 'cy': 762}, 'region_attributes': {}}, {'shape_attributes': {'name': 'rect', 'x': 268, 'y': 765, 'width': 149, 'height': 170}, 'region_attributes': {'class': '2'}}, {'shape_attributes': {'name': 'rect', 'x': 355, 'y': 848, 'width': 54, 'height': 85}, 'region_attributes': {'class': ''}}, {'shape_attributes': {'name': 'point', 'cx': 365, 'cy': 914}, 'region_attributes': {}}, {'shape_attributes': {'name': 'point', 'cx': 393, 'cy': 867}, 'region_attributes': {}}, {'shape_attributes': {'name': 'point', 'cx': 308, 'cy': 815}, 'region_attributes': {}}, {'shape_attributes': {'name': 'rect', 'x': 675, 'y': 796, 'width': 152, 'height': 170}, 'region_attributes': {'class': '1'}}, {'shape_attributes': {'name': 'rect', 'x': 725, 'y': 807, 'width': 99, 'height': 47}, 'region_attributes': {'class': ''}}, {'shape_attributes': {'name': 'point', 'cx': 807, 'cy': 836}, 'region_attributes': {}}, {'shape_attributes': {'name': 'point', 'cx': 748, 'cy': 822}, 'region_attributes': {}}, {'shape_attributes': {'name': 'point', 'cx': 684, 'cy': 940}, 'region_attributes': {}}, {'shape_attributes': {'name': 'rect', 'x': 867, 'y': 876, 'width': 180, 'height': 163}, 'region_attributes': {'class': '2'}}, {'shape_attributes': {'name': 'rect', 'x': 940, 'y': 886, 'width': 95, 'height': 85}, 'region_attributes': {'class': ''}}, {'shape_attributes': {'name': 'point', 'cx': 961, 'cy': 895}, 'region_attributes': {}}, {'shape_attributes': {'name': 'point', 'cx': 1011, 'cy': 952}, 'region_attributes': {}}, {'shape_attributes': {'name': 'point', 'cx': 895, 'cy': 1028}, 'region_attributes': {}}], 'file_attributes': {}}, {'filename': '8_0036_3.jpg', 'size': 257053, 'regions': [{'shape_attributes': {'name': 'rect', 'x': 166, 'y': 206, 'width': 162, 'height': 155}, 'region_attributes': {'class': '2'}}, {'shape_attributes': {'name': 'rect', 'x': 245, 'y': 209, 'width': 79, 'height': 39}, 'region_attributes': {'class': ''}}, {'shape_attributes': {'name': 'point', 'cx': 312, 'cy': 231}, 'region_attributes': {}}, {'shape_attributes': {'name': 'point', 'cx': 258, 'cy': 233}, 'region_attributes': {}}, {'shape_attributes': {'name': 'point', 'cx': 192, 'cy': 335}, 'region_attributes': {}}, {'shape_attributes': {'name': 'rect', 'x': 446, 'y': 77, 'width': 147, 'height': 122}, 'region_attributes': {'class': '1'}}, {'shape_attributes': {'name': 'rect', 'x': 537, 'y': 127, 'width': 53, 'height': 64}, 'region_attributes': {'class': ''}}, {'shape_attributes': {'name': 'point', 'cx': 583, 'cy': 138}, 'region_attributes': {}}, {'shape_attributes': {'name': 'point', 'cx': 547, 'cy': 179}, 'region_attributes': {}}, {'shape_attributes': {'name': 'point', 'cx': 478, 'cy': 93}, 'region_attributes': {}}, {'shape_attributes': {'name': 'rect', 'x': 1088, 'y': 507, 'width': 163, 'height': 152}, 'region_attributes': {'class': '1'}}, {'shape_attributes': {'name': 'rect', 'x': 1161, 'y': 546, 'width': 84, 'height': 89}, 'region_attributes': {'class': ''}}, {'shape_attributes': {'name': 'point', 'cx': 1203, 'cy': 610}, 'region_attributes': {}}, {'shape_attributes': {'name': 'point', 'cx': 1230, 'cy': 575}, 'region_attributes': {}}, {'shape_attributes': {'name': 'point', 'cx': 1114, 'cy': 544}, 'region_attributes': {}}, {'shape_attributes': {'name': 'rect', 'x': 1406, 'y': 583, 'width': 166, 'height': 155}, 'region_attributes': {'class': '2'}}, {'shape_attributes': {'name': 'rect', 'x': 1434, 'y': 594, 'width': 116, 'height': 45}, 'region_attributes': {'class': ''}}, {'shape_attributes': {'name': 'point', 'cx': 1521, 'cy': 620}, 'region_attributes': {}}, {'shape_attributes': {'name': 'point', 'cx': 1461, 'cy': 604}, 'region_attributes': {}}, {'shape_attributes': {'name': 'point', 'cx': 1503, 'cy': 712}, 'region_attributes': {}}, {'shape_attributes': {'name': 'rect', 'x': 1067, 'y': 667, 'width': 163, 'height': 163}, 'region_attributes': {'class': '1'}}, {'shape_attributes': {'name': 'rect', 'x': 1148, 'y': 673, 'width': 81, 'height': 110}, 'region_attributes': {'class': ''}}, {'shape_attributes': {'name': 'point', 'cx': 1193, 'cy': 744}, 'region_attributes': {}}, {'shape_attributes': {'name': 'point', 'cx': 1180, 'cy': 704}, 'region_attributes': {}}, {'shape_attributes': {'name': 'point', 'cx': 1082, 'cy': 778}, 'region_attributes': {}}, {'shape_attributes': {'name': 'rect', 'x': 236, 'y': 927, 'width': 171, 'height': 181}, 'region_attributes': {'class': '2'}}, {'shape_attributes': {'name': 'rect', 'x': 300, 'y': 941, 'width': 105, 'height': 79}, 'region_attributes': {'class': ''}}, {'shape_attributes': {'name': 'point', 'cx': 384, 'cy': 988}, 'region_attributes': {}}, {'shape_attributes': {'name': 'point', 'cx': 321, 'cy': 964}, 'region_attributes': {}}, {'shape_attributes': {'name': 'point', 'cx': 281, 'cy': 1072}, 'region_attributes': {}}, {'shape_attributes': {'name': 'rect', 'x': 817, 'y': 765, 'width': 144, 'height': 166}, 'region_attributes': {'class': '1'}}, {'shape_attributes': {'name': 'rect', 'x': 814, 'y': 883, 'width': 95, 'height': 53}, 'region_attributes': {'class': ''}}, {'shape_attributes': {'name': 'point', 'cx': 835, 'cy': 904}, 'region_attributes': {}}, {'shape_attributes': {'name': 'point', 'cx': 893, 'cy': 899}, 'region_attributes': {}}, {'shape_attributes': {'name': 'point', 'cx': 941, 'cy': 778}, 'region_attributes': {}}, {'shape_attributes': {'name': 'rect', 'x': 1329, 'y': 899, 'width': 200, 'height': 155}, 'region_attributes': {'class': ''}}, {'shape_attributes': {'name': 'rect', 'x': 1453, 'y': 906, 'width': 71, 'height': 110}, 'region_attributes': {'class': ''}}, {'shape_attributes': {'name': 'point', 'cx': 1479, 'cy': 920}, 'region_attributes': {}}, {'shape_attributes': {'name': 'point', 'cx': 1500, 'cy': 983}, 'region_attributes': {}}, {'shape_attributes': {'name': 'point', 'cx': 1358, 'cy': 1017}, 'region_attributes': {}}], 'file_attributes': {}}, {'filename': '8_0048_3.jpg', 'size': 256209, 'regions': [{'shape_attributes': {'name': 'rect', 'x': 117, 'y': 395, 'width': 228, 'height': 146}, 'region_attributes': {'class': '1'}}, {'shape_attributes': {'name': 'rect', 'x': 125, 'y': 427, 'width': 63, 'height': 102}, 'region_attributes': {'class': ''}}, {'shape_attributes': {'name': 'point', 'cx': 153, 'cy': 510}, 'region_attributes': {}}, {'shape_attributes': {'name': 'point', 'cx': 155, 'cy': 445}, 'region_attributes': {}}, {'shape_attributes': {'name': 'point', 'cx': 287, 'cy': 473}, 'region_attributes': {}}, {'shape_attributes': {'name': 'rect', 'x': 479, 'y': 400, 'width': 140, 'height': 194}, 'region_attributes': {'class': '1'}}, {'shape_attributes': {'name': 'rect', 'x': 500, 'y': 412, 'width': 94, 'height': 38}, 'region_attributes': {'class': ''}}, {'shape_attributes': {'name': 'point', 'cx': 517, 'cy': 423}, 'region_attributes': {}}, {'shape_attributes': {'name': 'point', 'cx': 569, 'cy': 429}, 'region_attributes': {}}, {'shape_attributes': {'name': 'point', 'cx': 537, 'cy': 569}, 'region_attributes': {}}, {'shape_attributes': {'name': 'rect', 'x': 866, 'y': 295, 'width': 186, 'height': 128}, 'region_attributes': {'class': '2'}}, {'shape_attributes': {'name': 'rect', 'x': 1000, 'y': 307, 'width': 31, 'height': 84}, 'region_attributes': {'class': ''}}, {'shape_attributes': {'name': 'point', 'cx': 1016, 'cy': 324}, 'region_attributes': {}}, {'shape_attributes': {'name': 'point', 'cx': 1012, 'cy': 372}, 'region_attributes': {}}, {'shape_attributes': {'name': 'point', 'cx': 889, 'cy': 387}, 'region_attributes': {}}, {'shape_attributes': {'name': 'rect', 'x': 644, 'y': 789, 'width': 186, 'height': 107}, 'region_attributes': {'class': '2'}}, {'shape_attributes': {'name': 'rect', 'x': 659, 'y': 820, 'width': 46, 'height': 75}, 'region_attributes': {'class': ''}}, {'shape_attributes': {'name': 'point', 'cx': 680, 'cy': 876}, 'region_attributes': {}}, {'shape_attributes': {'name': 'point', 'cx': 680, 'cy': 835}, 'region_attributes': {}}, {'shape_attributes': {'name': 'point', 'cx': 809, 'cy': 858}, 'region_attributes': {}}, {'shape_attributes': {'name': 'rect', 'x': 1180, 'y': 759, 'width': 195, 'height': 107}, 'region_attributes': {'class': '2'}}, {'shape_attributes': {'name': 'rect', 'x': 1318, 'y': 776, 'width': 57, 'height': 84}, 'region_attributes': {'class': ''}}, {'shape_attributes': {'name': 'point', 'cx': 1349, 'cy': 851}, 'region_attributes': {}}, {'shape_attributes': {'name': 'point', 'cx': 1330, 'cy': 807}, 'region_attributes': {}}, {'shape_attributes': {'name': 'point', 'cx': 1203, 'cy': 809}, 'region_attributes': {}}, {'shape_attributes': {'name': 'rect', 'x': 230, 'y': 823, 'width': 141, 'height': 174}, 'region_attributes': {'class': '1'}}, {'shape_attributes': {'name': 'rect', 'x': 245, 'y': 835, 'width': 109, 'height': 56}, 'region_attributes': {'class': ''}}, {'shape_attributes': {'name': 'point', 'cx': 277, 'cy': 855}, 'region_attributes': {}}, {'shape_attributes': {'name': 'point', 'cx': 335, 'cy': 872}, 'region_attributes': {}}, {'shape_attributes': {'name': 'point', 'cx': 264, 'cy': 966}, 'region_attributes': {}}, {'shape_attributes': {'name': 'rect', 'x': 556, 'y': 1040, 'width': 179, 'height': 134}, 'region_attributes': {'class': '1'}}, {'shape_attributes': {'name': 'rect', 'x': 686, 'y': 1053, 'width': 42, 'height': 93}, 'region_attributes': {'class': ''}}, {'shape_attributes': {'name': 'point', 'cx': 701, 'cy': 1062}, 'region_attributes': {}}, {'shape_attributes': {'name': 'point', 'cx': 706, 'cy': 1127}, 'region_attributes': {}}, {'shape_attributes': {'name': 'point', 'cx': 586, 'cy': 1081}, 'region_attributes': {'class': ''}}, {'shape_attributes': {'name': 'rect', 'x': 1060, 'y': 529, 'width': 154, 'height': 174}, 'region_attributes': {'class': '1'}}, {'shape_attributes': {'name': 'rect', 'x': 1065, 'y': 645, 'width': 112, 'height': 53}, 'region_attributes': {}}, {'shape_attributes': {'name': 'point', 'cx': 1083, 'cy': 664}, 'region_attributes': {}}, {'shape_attributes': {'name': 'point', 'cx': 1137, 'cy': 678}, 'region_attributes': {}}, {'shape_attributes': {'name': 'point', 'cx': 1170, 'cy': 545}, 'region_attributes': {}}], 'file_attributes': {}}, {'filename': '8_0052_4.jpg', 'size': 238570, 'regions': [{'shape_attributes': {'name': 'rect', 'x': 133, 'y': 271, 'width': 253, 'height': 133}, 'region_attributes': {'class': '2'}}, {'shape_attributes': {'name': 'rect', 'x': 278, 'y': 294, 'width': 102, 'height': 79}, 'region_attributes': {'class': ''}}, {'shape_attributes': {'name': 'point', 'cx': 363, 'cy': 322}, 'region_attributes': {}}, {'shape_attributes': {'name': 'point', 'cx': 304, 'cy': 353}, 'region_attributes': {}}, {'shape_attributes': {'name': 'point', 'cx': 156, 'cy': 319}, 'region_attributes': {}}, {'shape_attributes': {'name': 'rect', 'x': 525, 'y': 295, 'width': 176, 'height': 119}, 'region_attributes': {'class': '2'}}, {'shape_attributes': {'name': 'rect', 'x': 630, 'y': 343, 'width': 59, 'height': 65}, 'region_attributes': {'class': ''}}, {'shape_attributes': {'name': 'point', 'cx': 640, 'cy': 387}, 'region_attributes': {}}, {'shape_attributes': {'name': 'point', 'cx': 671, 'cy': 356}, 'region_attributes': {}}, {'shape_attributes': {'name': 'point', 'cx': 544, 'cy': 339}, 'region_attributes': {}}, {'shape_attributes': {'name': 'rect', 'x': 929, 'y': 215, 'width': 174, 'height': 120}, 'region_attributes': {'class': '2'}}, {'shape_attributes': {'name': 'rect', 'x': 940, 'y': 275, 'width': 100, 'height': 51}, 'region_attributes': {'class': ''}}, {'shape_attributes': {'name': 'point', 'cx': 1025, 'cy': 316}, 'region_attributes': {}}, {'shape_attributes': {'name': 'point', 'cx': 952, 'cy': 299}, 'region_attributes': {}}, {'shape_attributes': {'name': 'point', 'cx': 1070, 'cy': 241}, 'region_attributes': {}}, {'shape_attributes': {'name': 'rect', 'x': 970, 'y': 496, 'width': 213, 'height': 169}, 'region_attributes': {'class': '2'}}, {'shape_attributes': {'name': 'rect', 'x': 1108, 'y': 508, 'width': 69, 'height': 100}, 'region_attributes': {'class': ''}}, {'shape_attributes': {'name': 'point', 'cx': 1154, 'cy': 531}, 'region_attributes': {}}, {'shape_attributes': {'name': 'point', 'cx': 1136, 'cy': 583}, 'region_attributes': {}}, {'shape_attributes': {'name': 'point', 'cx': 1000, 'cy': 642}, 'region_attributes': {}}, {'shape_attributes': {'name': 'rect', 'x': 1280, 'y': 512, 'width': 236, 'height': 136}, 'region_attributes': {'class': '1'}}, {'shape_attributes': {'name': 'rect', 'x': 1452, 'y': 527, 'width': 61, 'height': 90}, 'region_attributes': {'class': ''}}, {'shape_attributes': {'name': 'point', 'cx': 1495, 'cy': 537}, 'region_attributes': {}}, {'shape_attributes': {'name': 'point', 'cx': 1475, 'cy': 596}, 'region_attributes': {}}, {'shape_attributes': {'name': 'point', 'cx': 1318, 'cy': 586}, 'region_attributes': {}}, {'shape_attributes': {'name': 'rect', 'x': 272, 'y': 751, 'width': 169, 'height': 111}, 'region_attributes': {'class': '2'}}, {'shape_attributes': {'name': 'rect', 'x': 387, 'y': 793, 'width': 46, 'height': 73}, 'region_attributes': {'class': ''}}, {'shape_attributes': {'name': 'point', 'cx': 397, 'cy': 845}, 'region_attributes': {}}, {'shape_attributes': {'name': 'point', 'cx': 418, 'cy': 816}, 'region_attributes': {}}, {'shape_attributes': {'name': 'point', 'cx': 297, 'cy': 814}, 'region_attributes': {}}, {'shape_attributes': {'name': 'rect', 'x': 638, 'y': 763, 'width': 176, 'height': 184}, 'region_attributes': {'class': '2'}}, {'shape_attributes': {'name': 'rect', 'x': 644, 'y': 855, 'width': 103, 'height': 86}, 'region_attributes': {'class': ''}}, {'shape_attributes': {'name': 'point', 'cx': 717, 'cy': 912}, 'region_attributes': {}}, {'shape_attributes': {'name': 'point', 'cx': 676, 'cy': 878}, 'region_attributes': {}}, {'shape_attributes': {'name': 'point', 'cx': 778, 'cy': 788}, 'region_attributes': {}}, {'shape_attributes': {'name': 'rect', 'x': 1188, 'y': 853, 'width': 207, 'height': 171}, 'region_attributes': {'class': '1'}}, {'shape_attributes': {'name': 'rect', 'x': 1285, 'y': 945, 'width': 100, 'height': 66}, 'region_attributes': {'class': ''}}, {'shape_attributes': {'name': 'point', 'cx': 1367, 'cy': 958}, 'region_attributes': {}}, {'shape_attributes': {'name': 'point', 'cx': 1308, 'cy': 986}, 'region_attributes': {}}, {'shape_attributes': {'name': 'point', 'cx': 1234, 'cy': 889}, 'region_attributes': {}}], 'file_attributes': {}}, {'filename': '8_0066_4.jpg', 'size': 260290, 'regions': [{'shape_attributes': {'name': 'rect', 'x': 230, 'y': 291, 'width': 100, 'height': 176}, 'region_attributes': {'class': '1'}}, {'shape_attributes': {'name': 'rect', 'x': 243, 'y': 304, 'width': 66, 'height': 59}, 'region_attributes': {'class': ''}}, {'shape_attributes': {'name': 'point', 'cx': 252, 'cy': 312}, 'region_attributes': {}}, {'shape_attributes': {'name': 'point', 'cx': 290, 'cy': 343}, 'region_attributes': {}}, {'shape_attributes': {'name': 'point', 'cx': 243, 'cy': 439}, 'region_attributes': {}}, {'shape_attributes': {'name': 'rect', 'x': 1085, 'y': 125, 'width': 163, 'height': 102}, 'region_attributes': {'class': ''}}, {'shape_attributes': {'name': 'rect', 'x': 1192, 'y': 151, 'width': 50, 'height': 54}, 'region_attributes': {'class': ''}}, {'shape_attributes': {'name': 'point', 'cx': 1230, 'cy': 163}, 'region_attributes': {}}, {'shape_attributes': {'name': 'point', 'cx': 1203, 'cy': 184}, 'region_attributes': {}}, {'shape_attributes': {'name': 'point', 'cx': 1102, 'cy': 172}, 'region_attributes': {}}, {'shape_attributes': {'name': 'rect', 'x': 1316, 'y': 215, 'width': 126, 'height': 180}, 'region_attributes': {'class': ''}}, {'shape_attributes': {'name': 'rect', 'x': 1353, 'y': 339, 'width': 92, 'height': 56}, 'region_attributes': {'class': ''}}, {'shape_attributes': {'name': 'point', 'cx': 1418, 'cy': 377}, 'region_attributes': {}}, {'shape_attributes': {'name': 'point', 'cx': 1376, 'cy': 368}, 'region_attributes': {}}, {'shape_attributes': {'name': 'point', 'cx': 1351, 'cy': 257}, 'region_attributes': {}}, {'shape_attributes': {'name': 'rect', 'x': 993, 'y': 251, 'width': 169, 'height': 123}, 'region_attributes': {'class': '2'}}, {'shape_attributes': {'name': 'rect', 'x': 1002, 'y': 295, 'width': 59, 'height': 73}, 'region_attributes': {'class': ''}}, {'shape_attributes': {'name': 'point', 'cx': 1012, 'cy': 309}, 'region_attributes': {}}, {'shape_attributes': {'name': 'point', 'cx': 1044, 'cy': 345}, 'region_attributes': {}}, {'shape_attributes': {'name': 'point', 'cx': 1132, 'cy': 263}, 'region_attributes': {}}, {'shape_attributes': {'name': 'rect', 'x': 820, 'y': 649, 'width': 166, 'height': 118}, 'region_attributes': {'class': '2'}}, {'shape_attributes': {'name': 'rect', 'x': 930, 'y': 680, 'width': 51, 'height': 84}, 'region_attributes': {'class': ''}}, {'shape_attributes': {'name': 'point', 'cx': 961, 'cy': 738}, 'region_attributes': {}}, {'shape_attributes': {'name': 'point', 'cx': 945, 'cy': 699}, 'region_attributes': {}}, {'shape_attributes': {'name': 'point', 'cx': 846, 'cy': 720}, 'region_attributes': {}}, {'shape_attributes': {'name': 'rect', 'x': 345, 'y': 804, 'width': 116, 'height': 153}, 'region_attributes': {'class': '1'}}, {'shape_attributes': {'name': 'rect', 'x': 372, 'y': 894, 'width': 75, 'height': 61}, 'region_attributes': {'class': ''}}, {'shape_attributes': {'name': 'point', 'cx': 427, 'cy': 917}, 'region_attributes': {}}, {'shape_attributes': {'name': 'point', 'cx': 395, 'cy': 943}, 'region_attributes': {}}, {'shape_attributes': {'name': 'point', 'cx': 395, 'cy': 825}, 'region_attributes': {}}, {'shape_attributes': {'name': 'rect', 'x': 742, 'y': 943, 'width': 124, 'height': 128}, 'region_attributes': {'class': '2'}}, {'shape_attributes': {'name': 'rect', 'x': 797, 'y': 947, 'width': 64, 'height': 61}, 'region_attributes': {'class': ''}}, {'shape_attributes': {'name': 'point', 'cx': 812, 'cy': 962}, 'region_attributes': {}}, {'shape_attributes': {'name': 'point', 'cx': 847, 'cy': 993}, 'region_attributes': {}}, {'shape_attributes': {'name': 'point', 'cx': 758, 'cy': 1051}, 'region_attributes': {}}, {'shape_attributes': {'name': 'rect', 'x': 1207, 'y': 839, 'width': 174, 'height': 146}, 'region_attributes': {'class': '1'}}, {'shape_attributes': {'name': 'rect', 'x': 1291, 'y': 845, 'width': 92, 'height': 56}, 'region_attributes': {'class': ''}}, {'shape_attributes': {'name': 'point', 'cx': 1366, 'cy': 874}, 'region_attributes': {}}, {'shape_attributes': {'name': 'point', 'cx': 1313, 'cy': 878}, 'region_attributes': {}}, {'shape_attributes': {'name': 'point', 'cx': 1234, 'cy': 966}, 'region_attributes': {}}], 'file_attributes': {}}, {'filename': '8_0068_2.jpg', 'size': 239269, 'regions': [{'shape_attributes': {'name': 'rect', 'x': 261, 'y': 103, 'width': 146, 'height': 155}, 'region_attributes': {'class': '2'}}, {'shape_attributes': {'name': 'rect', 'x': 264, 'y': 117, 'width': 86, 'height': 33}, 'region_attributes': {'class': ''}}, {'shape_attributes': {'name': 'point', 'cx': 280, 'cy': 140}, 'region_attributes': {}}, {'shape_attributes': {'name': 'point', 'cx': 333, 'cy': 126}, 'region_attributes': {}}, {'shape_attributes': {'name': 'point', 'cx': 383, 'cy': 234}, 'region_attributes': {}}, {'shape_attributes': {'name': 'rect', 'x': 632, 'y': 316, 'width': 192, 'height': 102}, 'region_attributes': {'class': '1'}}, {'shape_attributes': {'name': 'rect', 'x': 636, 'y': 322, 'width': 59, 'height': 80}, 'region_attributes': {'class': ''}}, {'shape_attributes': {'name': 'point', 'cx': 650, 'cy': 337}, 'region_attributes': {}}, {'shape_attributes': {'name': 'point', 'cx': 684, 'cy': 379}, 'region_attributes': {}}, {'shape_attributes': {'name': 'point', 'cx': 805, 'cy': 341}, 'region_attributes': {}}, {'shape_attributes': {'name': 'rect', 'x': 73, 'y': 479, 'width': 180, 'height': 130}, 'region_attributes': {'class': '2'}}, {'shape_attributes': {'name': 'rect', 'x': 82, 'y': 487, 'width': 86, 'height': 48}, 'region_attributes': {'class': ''}}, {'shape_attributes': {'name': 'point', 'cx': 96, 'cy': 525}, 'region_attributes': {}}, {'shape_attributes': {'name': 'point', 'cx': 149, 'cy': 496}, 'region_attributes': {}}, {'shape_attributes': {'name': 'point', 'cx': 234, 'cy': 584}, 'region_attributes': {}}, {'shape_attributes': {'name': 'rect', 'x': 445, 'y': 653, 'width': 169, 'height': 153}, 'region_attributes': {'class': '2'}}, {'shape_attributes': {'name': 'rect', 'x': 456, 'y': 655, 'width': 100, 'height': 54}, 'region_attributes': {'class': ''}}, {'shape_attributes': {'name': 'point', 'cx': 531, 'cy': 671}, 'region_attributes': {}}, {'shape_attributes': {'name': 'point', 'cx': 491, 'cy': 694}, 'region_attributes': {}}, {'shape_attributes': {'name': 'point', 'cx': 577, 'cy': 788}, 'region_attributes': {}}, {'shape_attributes': {'name': 'rect', 'x': 891, 'y': 431, 'width': 146, 'height': 169}, 'region_attributes': {'class': '1'}}, {'shape_attributes': {'name': 'rect', 'x': 960, 'y': 439, 'width': 71, 'height': 86}, 'region_attributes': {'class': ''}}, {'shape_attributes': {'name': 'point', 'cx': 1017, 'cy': 512}, 'region_attributes': {}}, {'shape_attributes': {'name': 'point', 'cx': 977, 'cy': 468}, 'region_attributes': {}}, {'shape_attributes': {'name': 'point', 'cx': 903, 'cy': 563}, 'region_attributes': {}}, {'shape_attributes': {'name': 'rect', 'x': 34, 'y': 811, 'width': 171, 'height': 138}, 'region_attributes': {'class': '1'}}, {'shape_attributes': {'name': 'rect', 'x': 40, 'y': 866, 'width': 75, 'height': 71}, 'region_attributes': {'class': ''}}, {'shape_attributes': {'name': 'point', 'cx': 50, 'cy': 881}, 'region_attributes': {}}, {'shape_attributes': {'name': 'point', 'cx': 98, 'cy': 924}, 'region_attributes': {}}, {'shape_attributes': {'name': 'point', 'cx': 174, 'cy': 841}, 'region_attributes': {}}, {'shape_attributes': {'name': 'rect', 'x': 561, 'y': 878, 'width': 117, 'height': 113}, 'region_attributes': {'class': ''}}, {'shape_attributes': {'name': 'rect', 'x': 563, 'y': 878, 'width': 86, 'height': 33}, 'region_attributes': {'class': ''}}, {'shape_attributes': {'name': 'point', 'cx': 584, 'cy': 897}, 'region_attributes': {}}, {'shape_attributes': {'name': 'point', 'cx': 632, 'cy': 893}, 'region_attributes': {}}, {'shape_attributes': {'name': 'point', 'cx': 602, 'cy': 970}, 'region_attributes': {}}, {'shape_attributes': {'name': 'rect', 'x': 833, 'y': 912, 'width': 184, 'height': 133}, 'region_attributes': {'class': ''}}, {'shape_attributes': {'name': 'rect', 'x': 835, 'y': 984, 'width': 89, 'height': 64}, 'region_attributes': {'class': ''}}, {'shape_attributes': {'name': 'point', 'cx': 843, 'cy': 996}, 'region_attributes': {}}, {'shape_attributes': {'name': 'point', 'cx': 899, 'cy': 1014}, 'region_attributes': {}}, {'shape_attributes': {'name': 'point', 'cx': 984, 'cy': 935}, 'region_attributes': {}}], 'file_attributes': {}}, {'filename': '8_0071_3.jpg', 'size': 245849, 'regions': [{'shape_attributes': {'name': 'rect', 'x': 282, 'y': 128, 'width': 172, 'height': 175}, 'region_attributes': {'class': '2'}}, {'shape_attributes': {'name': 'rect', 'x': 347, 'y': 149, 'width': 89, 'height': 42}, 'region_attributes': {'class': ''}}, {'shape_attributes': {'name': 'point', 'cx': 420, 'cy': 172}, 'region_attributes': {}}, {'shape_attributes': {'name': 'point', 'cx': 367, 'cy': 171}, 'region_attributes': {}}, {'shape_attributes': {'name': 'point', 'cx': 321, 'cy': 278}, 'region_attributes': {}}, {'shape_attributes': {'name': 'rect', 'x': 760, 'y': 195, 'width': 166, 'height': 141}, 'region_attributes': {'class': '1'}}, {'shape_attributes': {'name': 'rect', 'x': 882, 'y': 206, 'width': 44, 'height': 96}, 'region_attributes': {'class': ''}}, {'shape_attributes': {'name': 'point', 'cx': 911, 'cy': 220}, 'region_attributes': {}}, {'shape_attributes': {'name': 'point', 'cx': 899, 'cy': 279}, 'region_attributes': {}}, {'shape_attributes': {'name': 'point', 'cx': 770, 'cy': 297}, 'region_attributes': {}}, {'shape_attributes': {'name': 'rect', 'x': 1132, 'y': 226, 'width': 197, 'height': 144}, 'region_attributes': {'class': '2'}}, {'shape_attributes': {'name': 'rect', 'x': 1257, 'y': 259, 'width': 73, 'height': 92}, 'region_attributes': {'class': ''}}, {'shape_attributes': {'name': 'point', 'cx': 1311, 'cy': 276}, 'region_attributes': {}}, {'shape_attributes': {'name': 'point', 'cx': 1284, 'cy': 326}, 'region_attributes': {}}, {'shape_attributes': {'name': 'point', 'cx': 1157, 'cy': 287}, 'region_attributes': {}}, {'shape_attributes': {'name': 'rect', 'x': 136, 'y': 429, 'width': 167, 'height': 136}, 'region_attributes': {'class': '2'}}, {'shape_attributes': {'name': 'rect', 'x': 149, 'y': 464, 'width': 77, 'height': 84}, 'region_attributes': {'class': ''}}, {'shape_attributes': {'name': 'point', 'cx': 203, 'cy': 519}, 'region_attributes': {}}, {'shape_attributes': {'name': 'point', 'cx': 165, 'cy': 479}, 'region_attributes': {}}, {'shape_attributes': {'name': 'point', 'cx': 272, 'cy': 523}, 'region_attributes': {}}, {'shape_attributes': {'name': 'rect', 'x': 468, 'y': 563, 'width': 125, 'height': 167}, 'region_attributes': {'class': '1'}}, {'shape_attributes': {'name': 'rect', 'x': 475, 'y': 680, 'width': 75, 'height': 40}, 'region_attributes': {'class': ''}}, {'shape_attributes': {'name': 'point', 'cx': 487, 'cy': 690}, 'region_attributes': {}}, {'shape_attributes': {'name': 'point', 'cx': 538, 'cy': 709}, 'region_attributes': {}}, {'shape_attributes': {'name': 'point', 'cx': 563, 'cy': 579}, 'region_attributes': {}}, {'shape_attributes': {'name': 'rect', 'x': 728, 'y': 627, 'width': 172, 'height': 159}, 'region_attributes': {'class': '1'}}, {'shape_attributes': {'name': 'rect', 'x': 811, 'y': 636, 'width': 88, 'height': 54}, 'region_attributes': {'class': ''}}, {'shape_attributes': {'name': 'point', 'cx': 885, 'cy': 678}, 'region_attributes': {}}, {'shape_attributes': {'name': 'point', 'cx': 826, 'cy': 655}, 'region_attributes': {}}, {'shape_attributes': {'name': 'point', 'cx': 747, 'cy': 755}, 'region_attributes': {}}, {'shape_attributes': {'name': 'rect', 'x': 1159, 'y': 947, 'width': 132, 'height': 157}, 'region_attributes': {'class': ''}}, {'shape_attributes': {'name': 'rect', 'x': 1198, 'y': 1046, 'width': 77, 'height': 56}, 'region_attributes': {'class': ''}}, {'shape_attributes': {'name': 'point', 'cx': 1217, 'cy': 1081}, 'region_attributes': {}}, {'shape_attributes': {'name': 'point', 'cx': 1255, 'cy': 1062}, 'region_attributes': {}}, {'shape_attributes': {'name': 'point', 'cx': 1201, 'cy': 962}, 'region_attributes': {}}, {'shape_attributes': {'name': 'rect', 'x': 197, 'y': 904, 'width': 232, 'height': 111}, 'region_attributes': {'class': ''}}, {'shape_attributes': {'name': 'rect', 'x': 203, 'y': 954, 'width': 107, 'height': 59}, 'region_attributes': {'class': ''}}, {'shape_attributes': {'name': 'point', 'cx': 228, 'cy': 975}, 'region_attributes': {}}, {'shape_attributes': {'name': 'point', 'cx': 291, 'cy': 991}, 'region_attributes': {}}, {'shape_attributes': {'name': 'point', 'cx': 402, 'cy': 926}, 'region_attributes': {}}], 'file_attributes': {}}]\n"
     ]
    }
   ],
   "source": [
    "annotations = [a for a in annotations if a['regions']]\n",
    "print(annotations)\n",
    "num_mos = list()"
   ]
  },
  {
   "cell_type": "code",
   "execution_count": 385,
   "metadata": {},
   "outputs": [
    {
     "name": "stdout",
     "output_type": "stream",
     "text": [
      "num: 8\n"
     ]
    }
   ],
   "source": [
    "for a in annotations:\n",
    "            # load_mask() needs the image size to convert polygons to masks.\n",
    "            # Unfortunately, VIA doesn't include it in JSON, so we must read\n",
    "            # the image. This is only managable since the dataset is tiny.\n",
    "    num_mosquitoes = 0\n",
    "    image_path = os.path.join(dataset_dir, \"images\", a['filename'])\n",
    "    image = skimage.io.imread(image_path)\n",
    "    height, width = image.shape[:2]\n",
    "    num_mosquitoes = 0\n",
    "    cl = list()\n",
    "    bb = list()\n",
    "    kp = list()\n",
    "    for index, attr in enumerate(a['regions']):\n",
    "        #print(index,attr)\n",
    "        if (index%5==0):\n",
    "            #attr['region_attributes'].setdefault('class','1')# if the 'class' is missing, fill out automatically, but this error seldom happens\n",
    "            if not attr['region_attributes']['class']:#if the va;ues of 'class' is missing, fill out.\n",
    "                cl.append(str(random.randint(1,2)))\n",
    "            if attr['region_attributes']['class']:\n",
    "                cl.append(attr['region_attributes']['class'])\n",
    "            bb.append([attr['shape_attributes']['y'], attr['shape_attributes']['x'], attr['shape_attributes']['height'], attr['shape_attributes']['width']])\n",
    "        elif(index%5==1):\n",
    "            pass\n",
    "        else:\n",
    "            kp.append((attr['shape_attributes']['cy'],attr['shape_attributes']['cx']))\n",
    "            #kp.append([attr.get(['shape_attributes']['cy']),attr['shape_attributes']['cx']])\n",
    "        num_mosquitoes +=1\n",
    "    num_mosquitoes = int(num_mosquitoes/5)\n",
    "    num_mos.append(num_mosquitoes)\n",
    "print('num:',num_mosquitoes)"
   ]
  },
  {
   "cell_type": "code",
   "execution_count": 386,
   "metadata": {},
   "outputs": [
    {
     "name": "stdout",
     "output_type": "stream",
     "text": [
      "39 {'shape_attributes': {'name': 'point', 'cx': 402, 'cy': 926}, 'region_attributes': {}} 8_0071_3.jpg\n",
      "10 ['2', '1', '2', '2', '1', '1', '1', '1'] [[128, 282, 175, 172], [195, 760, 141, 166], [226, 1132, 144, 197], [429, 136, 136, 167], [563, 468, 167, 125], [627, 728, 159, 172], [947, 1159, 157, 132], [904, 197, 111, 232]] [(172, 420), (171, 367), (278, 321), (220, 911), (279, 899), (297, 770), (276, 1311), (326, 1284), (287, 1157), (519, 203), (479, 165), (523, 272), (690, 487), (709, 538), (579, 563), (678, 885), (655, 826), (755, 747), (1081, 1217), (1062, 1255), (962, 1201), (975, 228), (991, 291), (926, 402)] 24\n"
     ]
    }
   ],
   "source": [
    "print(index,attr,a['filename'])\n",
    "print(len(num_mos),cl,bb,kp,len(kp))"
   ]
  },
  {
   "cell_type": "code",
   "execution_count": 387,
   "metadata": {},
   "outputs": [
    {
     "name": "stdout",
     "output_type": "stream",
     "text": [
      "<class 'str'>\n",
      "<class 'bytes'>\n"
     ]
    }
   ],
   "source": [
    "if not '':\n",
    "    print(type(['1'][0]))\n",
    "    print(type(np.random.randint(1,3,1).tostring()))\n",
    "    \n",
    "    #print(type(a['regions']['region_attributes']['class']))"
   ]
  },
  {
   "cell_type": "code",
   "execution_count": 388,
   "metadata": {},
   "outputs": [
    {
     "name": "stdout",
     "output_type": "stream",
     "text": [
      "39 {'shape_attributes': {'name': 'point', 'cx': 402, 'cy': 926}, 'region_attributes': {}} 8_0071_3.jpg\n",
      "10 ['2', '1', '2', '2', '1', '1', '1', '1'] [[128, 282, 175, 172], [195, 760, 141, 166], [226, 1132, 144, 197], [429, 136, 136, 167], [563, 468, 167, 125], [627, 728, 159, 172], [947, 1159, 157, 132], [904, 197, 111, 232]] [(172, 420), (171, 367), (278, 321), (220, 911), (279, 899), (297, 770), (276, 1311), (326, 1284), (287, 1157), (519, 203), (479, 165), (523, 272), (690, 487), (709, 538), (579, 563), (678, 885), (655, 826), (755, 747), (1081, 1217), (1062, 1255), (962, 1201), (975, 228), (991, 291), (926, 402)] <class 'list'>\n"
     ]
    }
   ],
   "source": [
    "print(index,attr,a['filename'])\n",
    "print(len(num_mos),cl,bb,kp,type(kp))\n"
   ]
  },
  {
   "cell_type": "code",
   "execution_count": 389,
   "metadata": {},
   "outputs": [
    {
     "name": "stdout",
     "output_type": "stream",
     "text": [
      "{'shape_attributes': {'name': 'point', 'cx': 402, 'cy': 926}, 'region_attributes': {'class': '1'}}\n"
     ]
    }
   ],
   "source": [
    "attr['region_attributes'].setdefault('class','1')\n",
    "print(attr)"
   ]
  },
  {
   "cell_type": "code",
   "execution_count": 390,
   "metadata": {},
   "outputs": [
    {
     "name": "stdout",
     "output_type": "stream",
     "text": [
      "<class 'int'>\n"
     ]
    }
   ],
   "source": [
    "import random\n",
    "print(type(random.randint(1,2)))"
   ]
  },
  {
   "cell_type": "code",
   "execution_count": null,
   "metadata": {},
   "outputs": [],
   "source": []
  },
  {
   "cell_type": "code",
   "execution_count": null,
   "metadata": {},
   "outputs": [],
   "source": []
  },
  {
   "cell_type": "code",
   "execution_count": null,
   "metadata": {},
   "outputs": [],
   "source": []
  }
 ],
 "metadata": {
  "kernelspec": {
   "display_name": "Python 3",
   "language": "python",
   "name": "python3"
  },
  "language_info": {
   "codemirror_mode": {
    "name": "ipython",
    "version": 3
   },
   "file_extension": ".py",
   "mimetype": "text/x-python",
   "name": "python",
   "nbconvert_exporter": "python",
   "pygments_lexer": "ipython3",
   "version": "3.6.5"
  }
 },
 "nbformat": 4,
 "nbformat_minor": 2
}
