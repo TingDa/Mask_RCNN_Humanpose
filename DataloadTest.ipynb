{
 "cells": [
  {
   "cell_type": "code",
   "execution_count": 20,
   "metadata": {},
   "outputs": [],
   "source": [
    "import json\n",
    "import skimage\n",
    "import os\n",
    "import sys\n",
    "import random\n",
    "import math\n",
    "import numpy as np\n",
    "import skimage.io\n",
    "import matplotlib\n",
    "import matplotlib.pyplot as plt\n",
    "\n",
    "import coco\n",
    "import utils\n",
    "import model as modellib\n",
    "#import visualize\n",
    "from model import log\n",
    "dataset_dir = r'C:\\Users\\Zed_Luz\\OneDrive\\3-MEE\\18-JHU\\12-Work\\5-MosquitoRecog\\7-data'#'/media/jm/000C65DB000784DF/workspace/ws_MaskRCNN/Mask_RCNN/samples/mosquitoes/data/'\n"
   ]
  },
  {
   "cell_type": "code",
   "execution_count": 21,
   "metadata": {},
   "outputs": [],
   "source": [
    "subset = 'train'\n",
    "assert subset in [\"train\", \"val\"]\n"
   ]
  },
  {
   "cell_type": "code",
   "execution_count": 22,
   "metadata": {},
   "outputs": [],
   "source": [
    "if subset=='val':\n",
    "    annotations = json.load(open(os.path.join(dataset_dir, \"annotations\",\"train.json\")))\n",
    "else:\n",
    "    annotations = json.load(open(os.path.join(dataset_dir, \"annotations\",\"val.json\")))\n",
    "\n"
   ]
  },
  {
   "cell_type": "code",
   "execution_count": 23,
   "metadata": {},
   "outputs": [],
   "source": [
    "annotations = list(annotations.values())\n"
   ]
  },
  {
   "cell_type": "code",
   "execution_count": 24,
   "metadata": {},
   "outputs": [],
   "source": [
    "annotations = [a for a in annotations if a['regions']]\n",
    "#print(annotations)\n",
    "num_mos = list()"
   ]
  },
  {
   "cell_type": "code",
   "execution_count": 25,
   "metadata": {},
   "outputs": [
    {
     "ename": "KeyError",
     "evalue": "'cy'",
     "output_type": "error",
     "traceback": [
      "\u001b[1;31m---------------------------------------------------------------------------\u001b[0m",
      "\u001b[1;31mKeyError\u001b[0m                                  Traceback (most recent call last)",
      "\u001b[1;32m<ipython-input-25-7aa4f411f00c>\u001b[0m in \u001b[0;36m<module>\u001b[1;34m()\u001b[0m\n\u001b[0;32m     25\u001b[0m             \u001b[1;32mpass\u001b[0m\u001b[1;33m\u001b[0m\u001b[0m\n\u001b[0;32m     26\u001b[0m         \u001b[1;32melse\u001b[0m\u001b[1;33m:\u001b[0m\u001b[1;33m\u001b[0m\u001b[0m\n\u001b[1;32m---> 27\u001b[1;33m             \u001b[0mkp\u001b[0m\u001b[1;33m.\u001b[0m\u001b[0mappend\u001b[0m\u001b[1;33m(\u001b[0m\u001b[1;33m(\u001b[0m\u001b[0mattr\u001b[0m\u001b[1;33m[\u001b[0m\u001b[1;34m'shape_attributes'\u001b[0m\u001b[1;33m]\u001b[0m\u001b[1;33m[\u001b[0m\u001b[1;34m'cy'\u001b[0m\u001b[1;33m]\u001b[0m\u001b[1;33m,\u001b[0m\u001b[0mattr\u001b[0m\u001b[1;33m[\u001b[0m\u001b[1;34m'shape_attributes'\u001b[0m\u001b[1;33m]\u001b[0m\u001b[1;33m[\u001b[0m\u001b[1;34m'cx'\u001b[0m\u001b[1;33m]\u001b[0m\u001b[1;33m)\u001b[0m\u001b[1;33m)\u001b[0m\u001b[1;33m\u001b[0m\u001b[0m\n\u001b[0m\u001b[0;32m     28\u001b[0m             \u001b[1;31m#kp.append([attr.get(['shape_attributes']['cy']),attr['shape_attributes']['cx']])\u001b[0m\u001b[1;33m\u001b[0m\u001b[1;33m\u001b[0m\u001b[0m\n\u001b[0;32m     29\u001b[0m         \u001b[0mnum_mosquitoes\u001b[0m \u001b[1;33m+=\u001b[0m\u001b[1;36m1\u001b[0m\u001b[1;33m\u001b[0m\u001b[0m\n",
      "\u001b[1;31mKeyError\u001b[0m: 'cy'"
     ]
    }
   ],
   "source": [
    "for a in annotations:\n",
    "            # load_mask() needs the image size to convert polygons to masks.\n",
    "            # Unfortunately, VIA doesn't include it in JSON, so we must read\n",
    "            # the image. This is only managable since the dataset is tiny.\n",
    "    num_mosquitoes = 0\n",
    "    image_path = os.path.join(dataset_dir, \"images\", a['filename'])\n",
    "    image = skimage.io.imread(image_path)\n",
    "    height, width = image.shape[:2]\n",
    "    num_mosquitoes = 0\n",
    "    cl = list()\n",
    "    bb = list()\n",
    "    kp = list()\n",
    "    for index, attr in enumerate(a['regions']):\n",
    "        #print(index,attr)\n",
    "        if (index%5==0):\n",
    "            if not 'class' in attr['region_attributes']:\n",
    "                attr['region_attributes'].setdefault('class','1')# if the 'class' is missing, fill out automatically, but this error seldom happens\n",
    "            if not attr['region_attributes']['class']:#if the va;ues of 'class' is missing, fill out.\n",
    "                cl.append(str(random.randint(1,2)))\n",
    "            if attr['region_attributes']['class']:\n",
    "                cl.append(attr['region_attributes']['class'])\n",
    "            if 'y' in attr['shape_attributes']:# eror: if a extral point is marked without sense\n",
    "                bb.append([attr['shape_attributes']['y'], attr['shape_attributes']['x'], attr['shape_attributes']['height'], attr['shape_attributes']['width']])\n",
    "        elif(index%5==1):\n",
    "            pass\n",
    "        else:\n",
    "            kp.append((attr['shape_attributes']['cy'],attr['shape_attributes']['cx']))\n",
    "            #kp.append([attr.get(['shape_attributes']['cy']),attr['shape_attributes']['cx']])\n",
    "        num_mosquitoes +=1\n",
    "    num_mosquitoes = int(num_mosquitoes/5)\n",
    "    num_mos.append(num_mosquitoes)\n",
    "print('num:',num_mosquitoes)"
   ]
  },
  {
   "cell_type": "code",
   "execution_count": 26,
   "metadata": {},
   "outputs": [
    {
     "name": "stdout",
     "output_type": "stream",
     "text": [
      "5_0014_3.jpg \n",
      " index: 19 \n",
      " {'shape_attributes': {'name': 'rect', 'x': 673, 'y': 877, 'width': 225, 'height': 128}, 'region_attributes': {'class': '1'}}\n",
      "15 ['2', '1', '1', '2'] [[221, 27, 198, 158], [198, 759, 131, 227], [439, 1117, 163, 200], [475, 52, 193, 160]] [(398, 152), (324, 154), (236, 40), (248, 969), (223, 897), (313, 781), (585, 1130), (575, 1209), (451, 1287), (561, 79), (637, 193)] 11\n"
     ]
    }
   ],
   "source": [
    "# if errors pops up, please run this section to locate where errors happen.\n",
    "print(a['filename'],'\\n','index:',index,'\\n',attr)\n",
    "print(len(num_mos),cl,bb,kp,len(kp))"
   ]
  },
  {
   "cell_type": "code",
   "execution_count": null,
   "metadata": {},
   "outputs": [],
   "source": [
    "if not '':\n",
    "    print(type(['1'][0]))\n",
    "    print(type(np.random.randint(1,3,1).tostring()))\n",
    "    \n",
    "    #print(type(a['regions']['region_attributes']['class']))"
   ]
  },
  {
   "cell_type": "code",
   "execution_count": null,
   "metadata": {},
   "outputs": [],
   "source": [
    "print(index,attr,a['filename'])\n",
    "print(len(num_mos),cl,bb,kp,type(kp))\n"
   ]
  },
  {
   "cell_type": "code",
   "execution_count": null,
   "metadata": {},
   "outputs": [],
   "source": [
    "attr['region_attributes'].setdefault('class','1')\n",
    "print(attr)"
   ]
  },
  {
   "cell_type": "code",
   "execution_count": null,
   "metadata": {},
   "outputs": [],
   "source": [
    "import random\n",
    "print(type(random.randint(1,2)))"
   ]
  },
  {
   "cell_type": "code",
   "execution_count": null,
   "metadata": {},
   "outputs": [],
   "source": []
  },
  {
   "cell_type": "code",
   "execution_count": null,
   "metadata": {},
   "outputs": [],
   "source": []
  },
  {
   "cell_type": "code",
   "execution_count": null,
   "metadata": {},
   "outputs": [],
   "source": []
  }
 ],
 "metadata": {
  "kernelspec": {
   "display_name": "Python 3",
   "language": "python",
   "name": "python3"
  },
  "language_info": {
   "codemirror_mode": {
    "name": "ipython",
    "version": 3
   },
   "file_extension": ".py",
   "mimetype": "text/x-python",
   "name": "python",
   "nbconvert_exporter": "python",
   "pygments_lexer": "ipython3",
   "version": "3.6.5"
  }
 },
 "nbformat": 4,
 "nbformat_minor": 2
}
