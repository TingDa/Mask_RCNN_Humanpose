{
 "cells": [
  {
   "cell_type": "code",
   "execution_count": 351,
   "metadata": {},
   "outputs": [],
   "source": [
    "import json\n",
    "import skimage\n",
    "import os\n",
    "import sys\n",
    "import random\n",
    "import math\n",
    "import numpy as np\n",
    "import skimage.io\n",
    "import matplotlib\n",
    "import matplotlib.pyplot as plt\n",
    "\n",
    "import coco\n",
    "import utils\n",
    "import model as modellib\n",
    "#import visualize\n",
    "from model import log\n",
    "dataset_dir = r'C:\\Users\\Zed_Luz\\OneDrive\\3-MEE\\18-JHU\\12-Work\\5-MosquitoRecog\\7-data'#'/media/jm/000C65DB000784DF/workspace/ws_MaskRCNN/Mask_RCNN/samples/mosquitoes/data/'\n"
   ]
  },
  {
   "cell_type": "code",
   "execution_count": 352,
   "metadata": {},
   "outputs": [],
   "source": [
    "subset = 'train'\n",
    "assert subset in [\"train\", \"val\"]\n"
   ]
  },
  {
   "cell_type": "code",
   "execution_count": 353,
   "metadata": {},
   "outputs": [],
   "source": [
    "if subset=='train':\n",
    "    annotations = json.load(open(os.path.join(dataset_dir, \"annotations\",\"train.json\")))\n",
    "else:\n",
    "    annotations = json.load(open(os.path.join(dataset_dir, \"annotations\",\"val.json\")))\n",
    "\n"
   ]
  },
  {
   "cell_type": "code",
   "execution_count": 354,
   "metadata": {},
   "outputs": [],
   "source": [
    "annotations = list(annotations.values())\n"
   ]
  },
  {
   "cell_type": "code",
   "execution_count": 355,
   "metadata": {},
   "outputs": [
    {
     "name": "stdout",
     "output_type": "stream",
     "text": [
      "[{'filename': '6_0063_4.jpg', 'size': 274960, 'regions': [{'shape_attributes': {'name': 'rect', 'x': 244, 'y': 180, 'width': 136, 'height': 125}, 'region_attributes': {'class': '2'}}, {'shape_attributes': {'name': 'rect', 'x': 326, 'y': 208, 'width': 54, 'height': 95}, 'region_attributes': {'class': ''}}, {'shape_attributes': {'name': 'point', 'cx': 336, 'cy': 299}, 'region_attributes': {}}, {'shape_attributes': {'name': 'point', 'cx': 370, 'cy': 219}, 'region_attributes': {}}, {'shape_attributes': {'name': 'point', 'cx': 260, 'cy': 217}, 'region_attributes': {}}, {'shape_attributes': {'name': 'rect', 'x': 1052, 'y': 390, 'width': 200, 'height': 110}, 'region_attributes': {'class': '1'}}, {'shape_attributes': {'name': 'rect', 'x': 1059, 'y': 403, 'width': 65, 'height': 78}, 'region_attributes': {'class': ''}}, {'shape_attributes': {'name': 'point', 'cx': 1067, 'cy': 421}, 'region_attributes': {}}, {'shape_attributes': {'name': 'point', 'cx': 1099, 'cy': 459}, 'region_attributes': {}}, {'shape_attributes': {'name': 'point', 'cx': 1230, 'cy': 415}, 'region_attributes': {}}, {'shape_attributes': {'name': 'rect', 'x': 1378, 'y': 449, 'width': 99, 'height': 187}, 'region_attributes': {'class': '1'}}, {'shape_attributes': {'name': 'rect', 'x': 1391, 'y': 568, 'width': 86, 'height': 66}, 'region_attributes': {'class': ''}}, {'shape_attributes': {'name': 'point', 'cx': 1461, 'cy': 621}, 'region_attributes': {}}, {'shape_attributes': {'name': 'point', 'cx': 1409, 'cy': 592}, 'region_attributes': {}}, {'shape_attributes': {'name': 'point', 'cx': 1435, 'cy': 469}, 'region_attributes': {}}, {'shape_attributes': {'name': 'rect', 'x': 9, 'y': 823, 'width': 145, 'height': 125}, 'region_attributes': {'class': '1'}}, {'shape_attributes': {'name': 'rect', 'x': 106, 'y': 836, 'width': 44, 'height': 101}, 'region_attributes': {'class': ''}}, {'shape_attributes': {'name': 'point', 'cx': 136, 'cy': 920}, 'region_attributes': {}}, {'shape_attributes': {'name': 'point', 'cx': 119, 'cy': 867}, 'region_attributes': {}}, {'shape_attributes': {'name': 'point', 'cx': 31, 'cy': 929}, 'region_attributes': {}}, {'shape_attributes': {'name': 'rect', 'x': 253, 'y': 739, 'width': 114, 'height': 143}, 'region_attributes': {'class': '2'}}, {'shape_attributes': {'name': 'rect', 'x': 273, 'y': 836, 'width': 81, 'height': 46}, 'region_attributes': {'class': ''}}, {'shape_attributes': {'name': 'point', 'cx': 346, 'cy': 850}, 'region_attributes': {}}, {'shape_attributes': {'name': 'point', 'cx': 291, 'cy': 867}, 'region_attributes': {}}, {'shape_attributes': {'name': 'point', 'cx': 346, 'cy': 753}, 'region_attributes': {}}, {'shape_attributes': {'name': 'rect', 'x': 916, 'y': 766, 'width': 125, 'height': 156}, 'region_attributes': {'class': '2'}}, {'shape_attributes': {'name': 'rect', 'x': 927, 'y': 777, 'width': 84, 'height': 46}, 'region_attributes': {'class': ''}}, {'shape_attributes': {'name': 'point', 'cx': 997, 'cy': 786}, 'region_attributes': {}}, {'shape_attributes': {'name': 'point', 'cx': 949, 'cy': 806}, 'region_attributes': {}}, {'shape_attributes': {'name': 'point', 'cx': 1019, 'cy': 898}, 'region_attributes': {}}, {'shape_attributes': {'name': 'rect', 'x': 1071, 'y': 1018, 'width': 191, 'height': 141}, 'region_attributes': {'class': '1'}}, {'shape_attributes': {'name': 'rect', 'x': 1174, 'y': 1024, 'width': 88, 'height': 67}, 'region_attributes': {'class': ''}}, {'shape_attributes': {'name': 'point', 'cx': 1238, 'cy': 1065}, 'region_attributes': {}}, {'shape_attributes': {'name': 'point', 'cx': 1194, 'cy': 1053}, 'region_attributes': {}}, {'shape_attributes': {'name': 'point', 'cx': 1092, 'cy': 1106}, 'region_attributes': {}}], 'file_attributes': {}}, {'filename': '6_0079_3.jpg', 'size': 228368, 'regions': [{'shape_attributes': {'name': 'rect', 'x': 734, 'y': 232, 'width': 161, 'height': 170}, 'region_attributes': {'class': '1'}}, {'shape_attributes': {'name': 'rect', 'x': 813, 'y': 238, 'width': 79, 'height': 67}, 'region_attributes': {'class': ''}}, {'shape_attributes': {'name': 'point', 'cx': 866, 'cy': 258}, 'region_attributes': {}}, {'shape_attributes': {'name': 'point', 'cx': 828, 'cy': 270}, 'region_attributes': {}}, {'shape_attributes': {'name': 'point', 'cx': 754, 'cy': 376}, 'region_attributes': {}}, {'shape_attributes': {'name': 'rect', 'x': 1018, 'y': 335, 'width': 129, 'height': 202}, 'region_attributes': {'class': '1'}}, {'shape_attributes': {'name': 'rect', 'x': 1039, 'y': 340, 'width': 88, 'height': 65}, 'region_attributes': {'class': ''}}, {'shape_attributes': {'name': 'point', 'cx': 1056, 'cy': 346}, 'region_attributes': {}}, {'shape_attributes': {'name': 'point', 'cx': 1097, 'cy': 384}, 'region_attributes': {}}, {'shape_attributes': {'name': 'point', 'cx': 1071, 'cy': 502}, 'region_attributes': {}}, {'shape_attributes': {'name': 'rect', 'x': 423, 'y': 660, 'width': 246, 'height': 106}, 'region_attributes': {'class': '2'}}, {'shape_attributes': {'name': 'rect', 'x': 423, 'y': 684, 'width': 97, 'height': 88}, 'region_attributes': {'class': ''}}, {'shape_attributes': {'name': 'point', 'cx': 446, 'cy': 745}, 'region_attributes': {}}, {'shape_attributes': {'name': 'point', 'cx': 502, 'cy': 704}, 'region_attributes': {}}, {'shape_attributes': {'name': 'point', 'cx': 625, 'cy': 687}, 'region_attributes': {}}, {'shape_attributes': {'name': 'rect', 'x': 1130, 'y': 866, 'width': 202, 'height': 170}, 'region_attributes': {'class': '2'}}, {'shape_attributes': {'name': 'rect', 'x': 1133, 'y': 874, 'width': 62, 'height': 112}, 'region_attributes': {'class': ''}}, {'shape_attributes': {'name': 'point', 'cx': 1156, 'cy': 913}, 'region_attributes': {}}, {'shape_attributes': {'name': 'point', 'cx': 1168, 'cy': 971}, 'region_attributes': {}}, {'shape_attributes': {'name': 'point', 'cx': 1297, 'cy': 954}, 'region_attributes': {}}, {'shape_attributes': {'name': 'rect', 'x': 1256, 'y': 493, 'width': 173, 'height': 147}, 'region_attributes': {'class': '2'}}, {'shape_attributes': {'name': 'rect', 'x': 1379, 'y': 502, 'width': 47, 'height': 97}, 'region_attributes': {'class': ''}}, {'shape_attributes': {'name': 'point', 'cx': 1394, 'cy': 516}, 'region_attributes': {}}, {'shape_attributes': {'name': 'point', 'cx': 1403, 'cy': 578}, 'region_attributes': {}}, {'shape_attributes': {'name': 'point', 'cx': 1282, 'cy': 584}, 'region_attributes': {}}, {'shape_attributes': {'name': 'rect', 'x': 704, 'y': 496, 'width': 132, 'height': 173}, 'region_attributes': {'class': '2'}}, {'shape_attributes': {'name': 'rect', 'x': 716, 'y': 534, 'width': 62, 'height': 114}, 'region_attributes': {'class': ''}}, {'shape_attributes': {'name': 'point', 'cx': 742, 'cy': 566}, 'region_attributes': {}}, {'shape_attributes': {'name': 'point', 'cx': 763, 'cy': 625}, 'region_attributes': {}}, {'shape_attributes': {'name': 'point', 'cx': 779, 'cy': 522}, 'region_attributes': {}}], 'file_attributes': {}}, {'filename': '6_0091_5.jpg', 'size': 192666, 'regions': [{'shape_attributes': {'name': 'rect', 'x': 755, 'y': 235, 'width': 168, 'height': 152}, 'region_attributes': {'class': '2'}}, {'shape_attributes': {'name': 'rect', 'x': 824, 'y': 244, 'width': 92, 'height': 30}, 'region_attributes': {'class': ''}}, {'shape_attributes': {'name': 'point', 'cx': 905, 'cy': 261}, 'region_attributes': {}}, {'shape_attributes': {'name': 'point', 'cx': 844, 'cy': 264}, 'region_attributes': {}}, {'shape_attributes': {'name': 'point', 'cx': 770, 'cy': 365}, 'region_attributes': {}}, {'shape_attributes': {'name': 'rect', 'x': 942, 'y': 847, 'width': 180, 'height': 167}, 'region_attributes': {'class': '2'}}, {'shape_attributes': {'name': 'rect', 'x': 1058, 'y': 858, 'width': 58, 'height': 95}, 'region_attributes': {'class': ''}}, {'shape_attributes': {'name': 'point', 'cx': 1077, 'cy': 868}, 'region_attributes': {}}, {'shape_attributes': {'name': 'point', 'cx': 1095, 'cy': 933}, 'region_attributes': {}}, {'shape_attributes': {'name': 'point', 'cx': 976, 'cy': 997}, 'region_attributes': {}}, {'shape_attributes': {'name': 'rect', 'x': 742, 'y': 547, 'width': 180, 'height': 168}, 'region_attributes': {'class': '2'}}, {'shape_attributes': {'name': 'rect', 'x': 856, 'y': 576, 'width': 64, 'height': 83}, 'region_attributes': {'class': ''}}, {'shape_attributes': {'name': 'point', 'cx': 912, 'cy': 585}, 'region_attributes': {}}, {'shape_attributes': {'name': 'point', 'cx': 876, 'cy': 650}, 'region_attributes': {}}, {'shape_attributes': {'name': 'point', 'cx': 765, 'cy': 683}, 'region_attributes': {}}, {'shape_attributes': {'name': 'rect', 'x': 1165, 'y': 500, 'width': 115, 'height': 173}, 'region_attributes': {'class': '2'}}, {'shape_attributes': {'name': 'rect', 'x': 1194, 'y': 614, 'width': 82, 'height': 53}, 'region_attributes': {'class': ''}}, {'shape_attributes': {'name': 'point', 'cx': 1262, 'cy': 656}, 'region_attributes': {}}, {'shape_attributes': {'name': 'point', 'cx': 1211, 'cy': 635}, 'region_attributes': {}}, {'shape_attributes': {'name': 'point', 'cx': 1212, 'cy': 518}, 'region_attributes': {}}, {'shape_attributes': {'name': 'rect', 'x': 662, 'y': 777, 'width': 150, 'height': 138}, 'region_attributes': {'class': '2'}}, {'shape_attributes': {'name': 'rect', 'x': 668, 'y': 818, 'width': 44, 'height': 94}, 'region_attributes': {'class': ''}}, {'shape_attributes': {'name': 'point', 'cx': 692, 'cy': 902}, 'region_attributes': {}}, {'shape_attributes': {'name': 'point', 'cx': 685, 'cy': 838}, 'region_attributes': {}}, {'shape_attributes': {'name': 'point', 'cx': 794, 'cy': 842}, 'region_attributes': {}}, {'shape_attributes': {'name': 'rect', 'x': 942, 'y': 645, 'width': 105, 'height': 180}, 'region_attributes': {'class': '1'}}, {'shape_attributes': {'name': 'rect', 'x': 942, 'y': 753, 'width': 61, 'height': 70}, 'region_attributes': {'class': ''}}, {'shape_attributes': {'name': 'point', 'cx': 956, 'cy': 811}, 'region_attributes': {}}, {'shape_attributes': {'name': 'point', 'cx': 989, 'cy': 779}, 'region_attributes': {}}, {'shape_attributes': {'name': 'point', 'cx': 1014, 'cy': 661}, 'region_attributes': {}}], 'file_attributes': {}}, {'filename': '6_0099_3.jpg', 'size': 256132, 'regions': [{'shape_attributes': {'name': 'rect', 'x': 1120, 'y': 206, 'width': 120, 'height': 123}, 'region_attributes': {'class': '2'}}, {'shape_attributes': {'name': 'rect', 'x': 1197, 'y': 233, 'width': 39, 'height': 91}, 'region_attributes': {'class': ''}}, {'shape_attributes': {'name': 'point', 'cx': 1226, 'cy': 312}, 'region_attributes': {}}, {'shape_attributes': {'name': 'point', 'cx': 1218, 'cy': 248}, 'region_attributes': {}}, {'shape_attributes': {'name': 'point', 'cx': 1133, 'cy': 292}, 'region_attributes': {}}, {'shape_attributes': {'name': 'rect', 'x': 532, 'y': 338, 'width': 132, 'height': 141}, 'region_attributes': {'class': '2'}}, {'shape_attributes': {'name': 'rect', 'x': 562, 'y': 429, 'width': 91, 'height': 44}, 'region_attributes': {'class': ''}}, {'shape_attributes': {'name': 'point', 'cx': 583, 'cy': 455}, 'region_attributes': {}}, {'shape_attributes': {'name': 'point', 'cx': 630, 'cy': 452}, 'region_attributes': {}}, {'shape_attributes': {'name': 'point', 'cx': 568, 'cy': 376}, 'region_attributes': {}}, {'shape_attributes': {'name': 'rect', 'x': 903, 'y': 488, 'width': 126, 'height': 186}, 'region_attributes': {'class': '2'}}, {'shape_attributes': {'name': 'rect', 'x': 900, 'y': 498, 'width': 89, 'height': 92}, 'region_attributes': {'class': ''}}, {'shape_attributes': {'name': 'point', 'cx': 915, 'cy': 552}, 'region_attributes': {}}, {'shape_attributes': {'name': 'point', 'cx': 971, 'cy': 527}, 'region_attributes': {}}, {'shape_attributes': {'name': 'point', 'cx': 1000, 'cy': 647}, 'region_attributes': {}}, {'shape_attributes': {'name': 'rect', 'x': 345, 'y': 676, 'width': 111, 'height': 182}, 'region_attributes': {'class': '2'}}, {'shape_attributes': {'name': 'rect', 'x': 347, 'y': 689, 'width': 82, 'height': 50}, 'region_attributes': {'class': ''}}, {'shape_attributes': {'name': 'point', 'cx': 356, 'cy': 698}, 'region_attributes': {}}, {'shape_attributes': {'name': 'point', 'cx': 414, 'cy': 724}, 'region_attributes': {}}, {'shape_attributes': {'name': 'point', 'cx': 414, 'cy': 830}, 'region_attributes': {}}, {'shape_attributes': {'name': 'rect', 'x': 700, 'y': 647, 'width': 118, 'height': 182}, 'region_attributes': {'class': '1'}}, {'shape_attributes': {'name': 'rect', 'x': 742, 'y': 648, 'width': 65, 'height': 82}, 'region_attributes': {'class': ''}}, {'shape_attributes': {'name': 'point', 'cx': 765, 'cy': 661}, 'region_attributes': {}}, {'shape_attributes': {'name': 'point', 'cx': 786, 'cy': 712}, 'region_attributes': {}}, {'shape_attributes': {'name': 'point', 'cx': 724, 'cy': 811}, 'region_attributes': {}}, {'shape_attributes': {'name': 'rect', 'x': 602, 'y': 494, 'width': 109, 'height': 132}, 'region_attributes': {'class': '1'}}, {'shape_attributes': {'name': 'rect', 'x': 608, 'y': 500, 'width': 83, 'height': 36}, 'region_attributes': {'class': ''}}, {'shape_attributes': {'name': 'point', 'cx': 621, 'cy': 506}, 'region_attributes': {}}, {'shape_attributes': {'name': 'point', 'cx': 679, 'cy': 527}, 'region_attributes': {}}, {'shape_attributes': {'name': 'point', 'cx': 630, 'cy': 608}, 'region_attributes': {}}], 'file_attributes': {}}, {'filename': '6_0100_4.jpg', 'size': 273946, 'regions': [{'shape_attributes': {'name': 'rect', 'x': 121, 'y': 433, 'width': 95, 'height': 178}, 'region_attributes': {'class': '1'}}, {'shape_attributes': {'name': 'rect', 'x': 131, 'y': 541, 'width': 64, 'height': 66}, 'region_attributes': {'class': ''}}, {'shape_attributes': {'name': 'point', 'cx': 141, 'cy': 603}, 'region_attributes': {}}, {'shape_attributes': {'name': 'point', 'cx': 180, 'cy': 557}, 'region_attributes': {}}, {'shape_attributes': {'name': 'point', 'cx': 155, 'cy': 450}, 'region_attributes': {}}, {'shape_attributes': {'name': 'rect', 'x': 1261, 'y': 602, 'width': 105, 'height': 177}, 'region_attributes': {'class': '1'}}, {'shape_attributes': {'name': 'rect', 'x': 1270, 'y': 700, 'width': 89, 'height': 77}, 'region_attributes': {'class': ''}}, {'shape_attributes': {'name': 'point', 'cx': 1334, 'cy': 757}, 'region_attributes': {}}, {'shape_attributes': {'name': 'point', 'cx': 1289, 'cy': 730}, 'region_attributes': {}}, {'shape_attributes': {'name': 'point', 'cx': 1332, 'cy': 630}, 'region_attributes': {}}, {'shape_attributes': {'name': 'rect', 'x': 1043, 'y': 273, 'width': 164, 'height': 152}, 'region_attributes': {'class': '1'}}, {'shape_attributes': {'name': 'rect', 'x': 1043, 'y': 361, 'width': 100, 'height': 52}, 'region_attributes': {'class': ''}}, {'shape_attributes': {'name': 'point', 'cx': 1055, 'cy': 382}, 'region_attributes': {}}, {'shape_attributes': {'name': 'point', 'cx': 1116, 'cy': 391}, 'region_attributes': {}}, {'shape_attributes': {'name': 'point', 'cx': 1184, 'cy': 291}, 'region_attributes': {}}, {'shape_attributes': {'name': 'rect', 'x': 409, 'y': 416, 'width': 141, 'height': 173}, 'region_attributes': {'class': '2'}}, {'shape_attributes': {'name': 'rect', 'x': 455, 'y': 425, 'width': 93, 'height': 34}, 'region_attributes': {'class': ''}}, {'shape_attributes': {'name': 'point', 'cx': 527, 'cy': 450}, 'region_attributes': {}}, {'shape_attributes': {'name': 'point', 'cx': 470, 'cy': 445}, 'region_attributes': {}}, {'shape_attributes': {'name': 'point', 'cx': 439, 'cy': 559}, 'region_attributes': {}}, {'shape_attributes': {'name': 'rect', 'x': 530, 'y': 834, 'width': 170, 'height': 102}, 'region_attributes': {'class': '2'}}, {'shape_attributes': {'name': 'rect', 'x': 527, 'y': 848, 'width': 66, 'height': 91}, 'region_attributes': {'class': ''}}, {'shape_attributes': {'name': 'point', 'cx': 539, 'cy': 914}, 'region_attributes': {}}, {'shape_attributes': {'name': 'point', 'cx': 577, 'cy': 877}, 'region_attributes': {}}, {'shape_attributes': {'name': 'point', 'cx': 677, 'cy': 918}, 'region_attributes': {}}, {'shape_attributes': {'name': 'rect', 'x': 716, 'y': 589, 'width': 134, 'height': 159}, 'region_attributes': {'class': '2'}}, {'shape_attributes': {'name': 'rect', 'x': 789, 'y': 607, 'width': 59, 'height': 98}, 'region_attributes': {'class': ''}}, {'shape_attributes': {'name': 'point', 'cx': 832, 'cy': 684}, 'region_attributes': {}}, {'shape_attributes': {'name': 'point', 'cx': 807, 'cy': 630}, 'region_attributes': {}}, {'shape_attributes': {'name': 'point', 'cx': 739, 'cy': 709}, 'region_attributes': {}}], 'file_attributes': {}}, {'filename': '7_0032_3.jpg', 'size': 258268, 'regions': [{'shape_attributes': {'name': 'rect', 'x': 217, 'y': 67, 'width': 186, 'height': 132}, 'region_attributes': {'class': '1'}}, {'shape_attributes': {'name': 'rect', 'x': 321, 'y': 76, 'width': 81, 'height': 91}, 'region_attributes': {'class': ''}}, {'shape_attributes': {'name': 'point', 'cx': 389, 'cy': 150}, 'region_attributes': {}}, {'shape_attributes': {'name': 'point', 'cx': 346, 'cy': 103}, 'region_attributes': {}}, {'shape_attributes': {'name': 'point', 'cx': 235, 'cy': 180}, 'region_attributes': {}}, {'shape_attributes': {'name': 'rect', 'x': 582, 'y': 453, 'width': 125, 'height': 151}, 'region_attributes': {'class': '1'}}, {'shape_attributes': {'name': 'rect', 'x': 585, 'y': 462, 'width': 88, 'height': 56}, 'region_attributes': {'class': ''}}, {'shape_attributes': {'name': 'point', 'cx': 596, 'cy': 514}, 'region_attributes': {}}, {'shape_attributes': {'name': 'point', 'cx': 653, 'cy': 475}, 'region_attributes': {}}, {'shape_attributes': {'name': 'point', 'cx': 659, 'cy': 574}, 'region_attributes': {}}, {'shape_attributes': {'name': 'rect', 'x': 889, 'y': 739, 'width': 161, 'height': 189}, 'region_attributes': {'class': '2'}}, {'shape_attributes': {'name': 'rect', 'x': 968, 'y': 828, 'width': 68, 'height': 99}, 'region_attributes': {'class': ''}}, {'shape_attributes': {'name': 'point', 'cx': 986, 'cy': 909}, 'region_attributes': {}}, {'shape_attributes': {'name': 'point', 'cx': 1017, 'cy': 856}, 'region_attributes': {}}, {'shape_attributes': {'name': 'point', 'cx': 916, 'cy': 770}, 'region_attributes': {}}, {'shape_attributes': {'name': 'rect', 'x': 57, 'y': 335, 'width': 183, 'height': 158}, 'region_attributes': {'class': '2'}}, {'shape_attributes': {'name': 'rect', 'x': 158, 'y': 348, 'width': 68, 'height': 123}, 'region_attributes': {'class': ''}}, {'shape_attributes': {'name': 'point', 'cx': 202, 'cy': 438}, 'region_attributes': {}}, {'shape_attributes': {'name': 'point', 'cx': 185, 'cy': 374}, 'region_attributes': {}}, {'shape_attributes': {'name': 'point', 'cx': 77, 'cy': 456}, 'region_attributes': {}}, {'shape_attributes': {'name': 'rect', 'x': 544, 'y': 224, 'width': 196, 'height': 132}, 'region_attributes': {'class': '2'}}, {'shape_attributes': {'name': 'rect', 'x': 669, 'y': 240, 'width': 64, 'height': 101}, 'region_attributes': {'class': ''}}, {'shape_attributes': {'name': 'point', 'cx': 715, 'cy': 253}, 'region_attributes': {}}, {'shape_attributes': {'name': 'point', 'cx': 691, 'cy': 319}, 'region_attributes': {}}, {'shape_attributes': {'name': 'point', 'cx': 566, 'cy': 262}, 'region_attributes': {}}, {'shape_attributes': {'name': 'rect', 'x': 964, 'y': 211, 'width': 147, 'height': 152}, 'region_attributes': {'class': '2'}}, {'shape_attributes': {'name': 'rect', 'x': 966, 'y': 227, 'width': 55, 'height': 106}, 'region_attributes': {'class': ''}}, {'shape_attributes': {'name': 'point', 'cx': 984, 'cy': 313}, 'region_attributes': {}}, {'shape_attributes': {'name': 'point', 'cx': 1001, 'cy': 251}, 'region_attributes': {}}, {'shape_attributes': {'name': 'point', 'cx': 1089, 'cy': 328}, 'region_attributes': {}}, {'shape_attributes': {'name': 'rect', 'x': 607, 'y': 828, 'width': 156, 'height': 182}, 'region_attributes': {'class': '2'}}, {'shape_attributes': {'name': 'rect', 'x': 654, 'y': 936, 'width': 88, 'height': 67}, 'region_attributes': {'class': ''}}, {'shape_attributes': {'name': 'point', 'cx': 669, 'cy': 983}, 'region_attributes': {}}, {'shape_attributes': {'name': 'point', 'cx': 725, 'cy': 960}, 'region_attributes': {}}, {'shape_attributes': {'name': 'point', 'cx': 646, 'cy': 863}, 'region_attributes': {}}, {'shape_attributes': {'name': 'rect', 'x': 807, 'y': 1009, 'width': 173, 'height': 161}, 'region_attributes': {'class': '1'}}, {'shape_attributes': {'name': 'rect', 'x': 801, 'y': 1059, 'width': 50, 'height': 117}, 'region_attributes': {'class': ''}}, {'shape_attributes': {'name': 'point', 'cx': 822, 'cy': 1144}, 'region_attributes': {}}, {'shape_attributes': {'name': 'point', 'cx': 833, 'cy': 1074}, 'region_attributes': {}}, {'shape_attributes': {'name': 'point', 'cx': 954, 'cy': 1051}, 'region_attributes': {}}], 'file_attributes': {}}, {'filename': '7_0035_3.jpg', 'size': 265036, 'regions': [{'shape_attributes': {'name': 'rect', 'x': 138, 'y': 475, 'width': 141, 'height': 205}, 'region_attributes': {'class': '2'}}, {'shape_attributes': {'name': 'rect', 'x': 170, 'y': 584, 'width': 94, 'height': 100}, 'region_attributes': {'class': ''}}, {'shape_attributes': {'name': 'point', 'cx': 188, 'cy': 646}, 'region_attributes': {}}, {'shape_attributes': {'name': 'point', 'cx': 244, 'cy': 616}, 'region_attributes': {}}, {'shape_attributes': {'name': 'point', 'cx': 170, 'cy': 499}, 'region_attributes': {}}, {'shape_attributes': {'name': 'rect', 'x': 874, 'y': 707, 'width': 185, 'height': 147}, 'region_attributes': {'class': '2'}}, {'shape_attributes': {'name': 'rect', 'x': 977, 'y': 745, 'width': 79, 'height': 112}, 'region_attributes': {'class': ''}}, {'shape_attributes': {'name': 'point', 'cx': 998, 'cy': 830}, 'region_attributes': {}}, {'shape_attributes': {'name': 'point', 'cx': 1036, 'cy': 775}, 'region_attributes': {}}, {'shape_attributes': {'name': 'point', 'cx': 910, 'cy': 745}, 'region_attributes': {}}, {'shape_attributes': {'name': 'rect', 'x': 1224, 'y': 754, 'width': 138, 'height': 164}, 'region_attributes': {'class': '2'}}, {'shape_attributes': {'name': 'rect', 'x': 1235, 'y': 745, 'width': 129, 'height': 59}, 'region_attributes': {'class': ''}}, {'shape_attributes': {'name': 'point', 'cx': 1338, 'cy': 778}, 'region_attributes': {}}, {'shape_attributes': {'name': 'point', 'cx': 1265, 'cy': 781}, 'region_attributes': {}}, {'shape_attributes': {'name': 'point', 'cx': 1318, 'cy': 880}, 'region_attributes': {}}, {'shape_attributes': {'name': 'rect', 'x': 640, 'y': 992, 'width': 170, 'height': 182}, 'region_attributes': {'class': '2'}}, {'shape_attributes': {'name': 'rect', 'x': 651, 'y': 1118, 'width': 112, 'height': 56}, 'region_attributes': {'class': ''}}, {'shape_attributes': {'name': 'point', 'cx': 669, 'cy': 1153}, 'region_attributes': {}}, {'shape_attributes': {'name': 'point', 'cx': 731, 'cy': 1141}, 'region_attributes': {}}, {'shape_attributes': {'name': 'point', 'cx': 772, 'cy': 1009}, 'region_attributes': {}}, {'shape_attributes': {'name': 'rect', 'x': 889, 'y': 866, 'width': 202, 'height': 156}, 'region_attributes': {'class': '2'}}, {'shape_attributes': {'name': 'rect', 'x': 954, 'y': 874, 'width': 112, 'height': 106}, 'region_attributes': {'class': ''}}, {'shape_attributes': {'name': 'point', 'cx': 1033, 'cy': 960}, 'region_attributes': {}}, {'shape_attributes': {'name': 'point', 'cx': 992, 'cy': 904}, 'region_attributes': {}}, {'shape_attributes': {'name': 'point', 'cx': 916, 'cy': 989}, 'region_attributes': {}}, {'shape_attributes': {'name': 'rect', 'x': 1400, 'y': 393, 'width': 194, 'height': 182}, 'region_attributes': {'class': '1'}}, {'shape_attributes': {'name': 'rect', 'x': 1409, 'y': 399, 'width': 97, 'height': 97}, 'region_attributes': {'class': ''}}, {'shape_attributes': {'name': 'point', 'cx': 1426, 'cy': 461}, 'region_attributes': {}}, {'shape_attributes': {'name': 'point', 'cx': 1491, 'cy': 434}, 'region_attributes': {}}, {'shape_attributes': {'name': 'point', 'cx': 1570, 'cy': 519}, 'region_attributes': {}}], 'file_attributes': {}}, {'filename': '7_0038_2.jpg', 'size': 236571, 'regions': [{'shape_attributes': {'name': 'rect', 'x': 667, 'y': 260, 'width': 119, 'height': 216}, 'region_attributes': {'class': '1'}}, {'shape_attributes': {'name': 'rect', 'x': 678, 'y': 269, 'width': 97, 'height': 84}, 'region_attributes': {'class': ''}}, {'shape_attributes': {'name': 'point', 'cx': 698, 'cy': 286}, 'region_attributes': {}}, {'shape_attributes': {'name': 'point', 'cx': 742, 'cy': 328}, 'region_attributes': {}}, {'shape_attributes': {'name': 'point', 'cx': 691, 'cy': 445}, 'region_attributes': {}}, {'shape_attributes': {'name': 'rect', 'x': 156, 'y': 704, 'width': 187, 'height': 150}, 'region_attributes': {'class': '1'}}, {'shape_attributes': {'name': 'rect', 'x': 161, 'y': 715, 'width': 99, 'height': 75}, 'region_attributes': {'class': ''}}, {'shape_attributes': {'name': 'point', 'cx': 169, 'cy': 770}, 'region_attributes': {}}, {'shape_attributes': {'name': 'point', 'cx': 235, 'cy': 737}, 'region_attributes': {}}, {'shape_attributes': {'name': 'point', 'cx': 317, 'cy': 834}, 'region_attributes': {}}, {'shape_attributes': {'name': 'rect', 'x': 209, 'y': 506, 'width': 130, 'height': 147}, 'region_attributes': {'class': '2'}}, {'shape_attributes': {'name': 'rect', 'x': 218, 'y': 590, 'width': 108, 'height': 57}, 'region_attributes': {'class': ''}}, {'shape_attributes': {'name': 'point', 'cx': 306, 'cy': 632}, 'region_attributes': {}}, {'shape_attributes': {'name': 'point', 'cx': 238, 'cy': 618}, 'region_attributes': {}}, {'shape_attributes': {'name': 'point', 'cx': 315, 'cy': 541}, 'region_attributes': {}}, {'shape_attributes': {'name': 'rect', 'x': 414, 'y': 876, 'width': 218, 'height': 114}, 'region_attributes': {'class': '2'}}, {'shape_attributes': {'name': 'rect', 'x': 418, 'y': 883, 'width': 95, 'height': 75}, 'region_attributes': {'class': ''}}, {'shape_attributes': {'name': 'point', 'cx': 431, 'cy': 935}, 'region_attributes': {}}, {'shape_attributes': {'name': 'point', 'cx': 486, 'cy': 905}, 'region_attributes': {}}, {'shape_attributes': {'name': 'point', 'cx': 612, 'cy': 962}, 'region_attributes': {}}, {'shape_attributes': {'name': 'rect', 'x': 821, 'y': 755, 'width': 136, 'height': 145}, 'region_attributes': {'class': '2'}}, {'shape_attributes': {'name': 'rect', 'x': 823, 'y': 772, 'width': 64, 'height': 119}, 'region_attributes': {'class': ''}}, {'shape_attributes': {'name': 'point', 'cx': 852, 'cy': 874}, 'region_attributes': {}}, {'shape_attributes': {'name': 'point', 'cx': 841, 'cy': 797}, 'region_attributes': {}}, {'shape_attributes': {'name': 'point', 'cx': 933, 'cy': 845}, 'region_attributes': {}}, {'shape_attributes': {'name': 'rect', 'x': 702, 'y': 949, 'width': 189, 'height': 187}, 'region_attributes': {'class': '2'}}, {'shape_attributes': {'name': 'rect', 'x': 808, 'y': 1017, 'width': 75, 'height': 121}, 'region_attributes': {'class': ''}}, {'shape_attributes': {'name': 'point', 'cx': 823, 'cy': 1120}, 'region_attributes': {}}, {'shape_attributes': {'name': 'point', 'cx': 861, 'cy': 1041}, 'region_attributes': {}}, {'shape_attributes': {'name': 'point', 'cx': 726, 'cy': 984}, 'region_attributes': {}}], 'file_attributes': {}}, {'filename': '7_0043_5.jpg', 'size': 169314, 'regions': [{'shape_attributes': {'name': 'rect', 'x': 220, 'y': 141, 'width': 130, 'height': 187}, 'region_attributes': {'class': '2'}}, {'shape_attributes': {'name': 'rect', 'x': 224, 'y': 152, 'width': 106, 'height': 55}, 'region_attributes': {'class': ''}}, {'shape_attributes': {'name': 'point', 'cx': 242, 'cy': 174}, 'region_attributes': {}}, {'shape_attributes': {'name': 'point', 'cx': 306, 'cy': 187}, 'region_attributes': {}}, {'shape_attributes': {'name': 'point', 'cx': 291, 'cy': 293}, 'region_attributes': {}}, {'shape_attributes': {'name': 'rect', 'x': 1391, 'y': 496, 'width': 173, 'height': 191}, 'region_attributes': {'class': '2'}}, {'shape_attributes': {'name': 'rect', 'x': 1450, 'y': 602, 'width': 109, 'height': 82}, 'region_attributes': {'class': ''}}, {'shape_attributes': {'name': 'point', 'cx': 1538, 'cy': 643}, 'region_attributes': {}}, {'shape_attributes': {'name': 'point', 'cx': 1479, 'cy': 649}, 'region_attributes': {}}, {'shape_attributes': {'name': 'point', 'cx': 1417, 'cy': 525}, 'region_attributes': {}}, {'shape_attributes': {'name': 'rect', 'x': 592, 'y': 308, 'width': 161, 'height': 167}, 'region_attributes': {'class': '1'}}, {'shape_attributes': {'name': 'rect', 'x': 654, 'y': 317, 'width': 101, 'height': 64}, 'region_attributes': {'class': ''}}, {'shape_attributes': {'name': 'point', 'cx': 737, 'cy': 354}, 'region_attributes': {}}, {'shape_attributes': {'name': 'point', 'cx': 671, 'cy': 337}, 'region_attributes': {}}, {'shape_attributes': {'name': 'point', 'cx': 607, 'cy': 453}, 'region_attributes': {}}, {'shape_attributes': {'name': 'rect', 'x': 649, 'y': 623, 'width': 136, 'height': 161}, 'region_attributes': {'class': '1'}}, {'shape_attributes': {'name': 'rect', 'x': 704, 'y': 640, 'width': 81, 'height': 92}, 'region_attributes': {'class': ''}}, {'shape_attributes': {'name': 'point', 'cx': 772, 'cy': 713}, 'region_attributes': {}}, {'shape_attributes': {'name': 'point', 'cx': 720, 'cy': 662}, 'region_attributes': {}}, {'shape_attributes': {'name': 'point', 'cx': 693, 'cy': 775}, 'region_attributes': {}}, {'shape_attributes': {'name': 'rect', 'x': 398, 'y': 885, 'width': 220, 'height': 112}, 'region_attributes': {'class': '1'}}, {'shape_attributes': {'name': 'rect', 'x': 515, 'y': 909, 'width': 103, 'height': 75}, 'region_attributes': {'class': ''}}, {'shape_attributes': {'name': 'point', 'cx': 601, 'cy': 962}, 'region_attributes': {}}, {'shape_attributes': {'name': 'point', 'cx': 546, 'cy': 938}, 'region_attributes': {}}, {'shape_attributes': {'name': 'point', 'cx': 416, 'cy': 971}, 'region_attributes': {}}, {'shape_attributes': {'name': 'rect', 'x': 909, 'y': 896, 'width': 178, 'height': 183}, 'region_attributes': {'class': '1'}}, {'shape_attributes': {'name': 'rect', 'x': 927, 'y': 900, 'width': 103, 'height': 84}, 'region_attributes': {'class': ''}}, {'shape_attributes': {'name': 'point', 'cx': 1010, 'cy': 911}, 'region_attributes': {}}, {'shape_attributes': {'name': 'point', 'cx': 946, 'cy': 964}, 'region_attributes': {}}, {'shape_attributes': {'name': 'point', 'cx': 1050, 'cy': 1056}, 'region_attributes': {}}], 'file_attributes': {}}, {'filename': '7_0046_2.jpg', 'size': 225504, 'regions': [{'shape_attributes': {'name': 'rect', 'x': 566, 'y': 130, 'width': 139, 'height': 174}, 'region_attributes': {'class': '2'}}, {'shape_attributes': {'name': 'rect', 'x': 557, 'y': 238, 'width': 110, 'height': 62}, 'region_attributes': {'class': ''}}, {'shape_attributes': {'name': 'point', 'cx': 577, 'cy': 255}, 'region_attributes': {}}, {'shape_attributes': {'name': 'point', 'cx': 632, 'cy': 277}, 'region_attributes': {}}, {'shape_attributes': {'name': 'point', 'cx': 680, 'cy': 150}, 'region_attributes': {}}, {'shape_attributes': {'name': 'rect', 'x': 656, 'y': 357, 'width': 198, 'height': 150}, 'region_attributes': {'class': '2'}}, {'shape_attributes': {'name': 'rect', 'x': 792, 'y': 403, 'width': 62, 'height': 103}, 'region_attributes': {'class': ''}}, {'shape_attributes': {'name': 'point', 'cx': 841, 'cy': 486}, 'region_attributes': {}}, {'shape_attributes': {'name': 'point', 'cx': 814, 'cy': 423}, 'region_attributes': {}}, {'shape_attributes': {'name': 'point', 'cx': 678, 'cy': 387}, 'region_attributes': {}}, {'shape_attributes': {'name': 'rect', 'x': 924, 'y': 423, 'width': 163, 'height': 152}, 'region_attributes': {'class': '2'}}, {'shape_attributes': {'name': 'rect', 'x': 1021, 'y': 482, 'width': 64, 'height': 86}, 'region_attributes': {'class': ''}}, {'shape_attributes': {'name': 'point', 'cx': 1039, 'cy': 552}, 'region_attributes': {}}, {'shape_attributes': {'name': 'point', 'cx': 1067, 'cy': 504}, 'region_attributes': {}}, {'shape_attributes': {'name': 'point', 'cx': 946, 'cy': 451}, 'region_attributes': {}}, {'shape_attributes': {'name': 'rect', 'x': 172, 'y': 794, 'width': 117, 'height': 165}, 'region_attributes': {'class': '2'}}, {'shape_attributes': {'name': 'rect', 'x': 163, 'y': 794, 'width': 112, 'height': 44}, 'region_attributes': {'class': ''}}, {'shape_attributes': {'name': 'point', 'cx': 185, 'cy': 810}, 'region_attributes': {}}, {'shape_attributes': {'name': 'point', 'cx': 264, 'cy': 821}, 'region_attributes': {}}, {'shape_attributes': {'name': 'point', 'cx': 209, 'cy': 944}, 'region_attributes': {}}, {'shape_attributes': {'name': 'rect', 'x': 271, 'y': 728, 'width': 167, 'height': 147}, 'region_attributes': {'class': '2'}}, {'shape_attributes': {'name': 'rect', 'x': 277, 'y': 735, 'width': 106, 'height': 59}, 'region_attributes': {'class': ''}}, {'shape_attributes': {'name': 'point', 'cx': 357, 'cy': 742}, 'region_attributes': {}}, {'shape_attributes': {'name': 'point', 'cx': 297, 'cy': 777}, 'region_attributes': {}}, {'shape_attributes': {'name': 'point', 'cx': 405, 'cy': 847}, 'region_attributes': {}}, {'shape_attributes': {'name': 'rect', 'x': 563, 'y': 731, 'width': 216, 'height': 141}, 'region_attributes': {'class': '2'}}, {'shape_attributes': {'name': 'rect', 'x': 676, 'y': 801, 'width': 101, 'height': 66}, 'region_attributes': {'class': ''}}, {'shape_attributes': {'name': 'point', 'cx': 759, 'cy': 821}, 'region_attributes': {}}, {'shape_attributes': {'name': 'point', 'cx': 695, 'cy': 845}, 'region_attributes': {}}, {'shape_attributes': {'name': 'point', 'cx': 583, 'cy': 757}, 'region_attributes': {}}, {'shape_attributes': {'name': 'rect', 'x': 167, 'y': 526, 'width': 189, 'height': 136}, 'region_attributes': {'class': '1'}}, {'shape_attributes': {'name': 'rect', 'x': 165, 'y': 544, 'width': 66, 'height': 108}, 'region_attributes': {'class': ''}}, {'shape_attributes': {'name': 'point', 'cx': 178, 'cy': 632}, 'region_attributes': {}}, {'shape_attributes': {'name': 'point', 'cx': 213, 'cy': 572}, 'region_attributes': {}}, {'shape_attributes': {'name': 'point', 'cx': 332, 'cy': 625}, 'region_attributes': {}}], 'file_attributes': {}}]\n"
     ]
    }
   ],
   "source": [
    "annotations = [a for a in annotations if a['regions']]\n",
    "print(annotations)\n",
    "num_mos = list()"
   ]
  },
  {
   "cell_type": "code",
   "execution_count": 356,
   "metadata": {},
   "outputs": [
    {
     "name": "stdout",
     "output_type": "stream",
     "text": [
      "num: 7\n"
     ]
    }
   ],
   "source": [
    "for a in annotations:\n",
    "            # load_mask() needs the image size to convert polygons to masks.\n",
    "            # Unfortunately, VIA doesn't include it in JSON, so we must read\n",
    "            # the image. This is only managable since the dataset is tiny.\n",
    "    num_mosquitoes = 0\n",
    "    image_path = os.path.join(dataset_dir, \"images\", a['filename'])\n",
    "    image = skimage.io.imread(image_path)\n",
    "    height, width = image.shape[:2]\n",
    "    num_mosquitoes = 0\n",
    "    cl = list()\n",
    "    bb = list()\n",
    "    kp = list()\n",
    "    for index, attr in enumerate(a['regions']):\n",
    "        #print(index,attr)\n",
    "        if (index%5==0):\n",
    "            attr['region_attributes'].setdefault('class','1')# if the 'class' is missing, fill out automatically\n",
    "            if not attr['region_attributes']['class']:#if the va;ues of 'class' is missing, fill out.\n",
    "                cl.append(str(random.randint(1,2)))\n",
    "            if attr['region_attributes']['class']:\n",
    "                cl.append(attr['region_attributes']['class'])\n",
    "            bb.append([attr['shape_attributes']['y'], attr['shape_attributes']['x'], attr['shape_attributes']['height'], attr['shape_attributes']['width']])\n",
    "        elif(index%5==1):\n",
    "            pass\n",
    "        else:\n",
    "            kp.append((attr['shape_attributes']['cy'],attr['shape_attributes']['cx']))\n",
    "            #kp.append([attr.get(['shape_attributes']['cy']),attr['shape_attributes']['cx']])\n",
    "        num_mosquitoes +=1\n",
    "    num_mosquitoes = int(num_mosquitoes/5)\n",
    "    num_mos.append(num_mosquitoes)\n",
    "print('num:',num_mosquitoes)"
   ]
  },
  {
   "cell_type": "code",
   "execution_count": 357,
   "metadata": {},
   "outputs": [
    {
     "name": "stdout",
     "output_type": "stream",
     "text": [
      "34 {'shape_attributes': {'name': 'point', 'cx': 332, 'cy': 625}, 'region_attributes': {}} 7_0046_2.jpg\n",
      "10 ['2', '2', '2', '2', '2', '2', '1'] [[130, 566, 174, 139], [357, 656, 150, 198], [423, 924, 152, 163], [794, 172, 165, 117], [728, 271, 147, 167], [731, 563, 141, 216], [526, 167, 136, 189]] [(255, 577), (277, 632), (150, 680), (486, 841), (423, 814), (387, 678), (552, 1039), (504, 1067), (451, 946), (810, 185), (821, 264), (944, 209), (742, 357), (777, 297), (847, 405), (821, 759), (845, 695), (757, 583), (632, 178), (572, 213), (625, 332)] 21\n"
     ]
    }
   ],
   "source": [
    "print(index,attr,a['filename'])\n",
    "print(len(num_mos),cl,bb,kp,len(kp))"
   ]
  },
  {
   "cell_type": "code",
   "execution_count": 358,
   "metadata": {},
   "outputs": [
    {
     "name": "stdout",
     "output_type": "stream",
     "text": [
      "<class 'str'>\n",
      "<class 'bytes'>\n"
     ]
    }
   ],
   "source": [
    "if not '':\n",
    "    print(type(['1'][0]))\n",
    "    print(type(np.random.randint(1,3,1).tostring()))\n",
    "    \n",
    "    #print(type(a['regions']['region_attributes']['class']))"
   ]
  },
  {
   "cell_type": "code",
   "execution_count": 359,
   "metadata": {},
   "outputs": [
    {
     "name": "stdout",
     "output_type": "stream",
     "text": [
      "34 {'shape_attributes': {'name': 'point', 'cx': 332, 'cy': 625}, 'region_attributes': {}} 7_0046_2.jpg\n",
      "10 ['2', '2', '2', '2', '2', '2', '1'] [[130, 566, 174, 139], [357, 656, 150, 198], [423, 924, 152, 163], [794, 172, 165, 117], [728, 271, 147, 167], [731, 563, 141, 216], [526, 167, 136, 189]] [(255, 577), (277, 632), (150, 680), (486, 841), (423, 814), (387, 678), (552, 1039), (504, 1067), (451, 946), (810, 185), (821, 264), (944, 209), (742, 357), (777, 297), (847, 405), (821, 759), (845, 695), (757, 583), (632, 178), (572, 213), (625, 332)] <class 'list'>\n"
     ]
    }
   ],
   "source": [
    "print(index,attr,a['filename'])\n",
    "print(len(num_mos),cl,bb,kp,type(kp))\n"
   ]
  },
  {
   "cell_type": "code",
   "execution_count": 360,
   "metadata": {},
   "outputs": [
    {
     "name": "stdout",
     "output_type": "stream",
     "text": [
      "{'shape_attributes': {'name': 'point', 'cx': 332, 'cy': 625}, 'region_attributes': {'class': '1'}}\n"
     ]
    }
   ],
   "source": [
    "attr['region_attributes'].setdefault('class','1')\n",
    "print(attr)"
   ]
  },
  {
   "cell_type": "code",
   "execution_count": 361,
   "metadata": {},
   "outputs": [
    {
     "name": "stdout",
     "output_type": "stream",
     "text": [
      "<class 'int'>\n"
     ]
    }
   ],
   "source": [
    "import random\n",
    "print(type(random.randint(1,2)))"
   ]
  },
  {
   "cell_type": "code",
   "execution_count": null,
   "metadata": {},
   "outputs": [],
   "source": []
  },
  {
   "cell_type": "code",
   "execution_count": null,
   "metadata": {},
   "outputs": [],
   "source": []
  },
  {
   "cell_type": "code",
   "execution_count": null,
   "metadata": {},
   "outputs": [],
   "source": []
  }
 ],
 "metadata": {
  "kernelspec": {
   "display_name": "Python 3",
   "language": "python",
   "name": "python3"
  },
  "language_info": {
   "codemirror_mode": {
    "name": "ipython",
    "version": 3
   },
   "file_extension": ".py",
   "mimetype": "text/x-python",
   "name": "python",
   "nbconvert_exporter": "python",
   "pygments_lexer": "ipython3",
   "version": "3.6.5"
  }
 },
 "nbformat": 4,
 "nbformat_minor": 2
}
